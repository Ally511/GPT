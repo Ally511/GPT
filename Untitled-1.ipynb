{
 "cells": [
  {
   "cell_type": "code",
   "id": "f45d93c1",
   "metadata": {
    "ExecuteTime": {
     "end_time": "2025-07-30T13:27:08.710298Z",
     "start_time": "2025-07-30T13:27:08.482220Z"
    }
   },
   "source": [
    "import numpy as np\n"
   ],
   "outputs": [],
   "execution_count": 2
  },
  {
   "cell_type": "code",
   "id": "99cf4e51",
   "metadata": {
    "ExecuteTime": {
     "end_time": "2025-07-30T13:27:37.855822Z",
     "start_time": "2025-07-30T13:27:37.835044Z"
    }
   },
   "source": [
    "def get_batch(input, batch_size,chunk_size):\n",
    "\n",
    "    input_batch = []\n",
    "    print(type(input_batch))\n",
    "    target_batch = []\n",
    "    idx = np.random.randint(0,len(input)-(chunk_size+1),size=batch_size)\n",
    "    for i in range(0,len(idx)-1):\n",
    "        input_batch.append(input[idx[i]:idx[i]+chunk_size])\n",
    "        target_batch.append(input[idx[i]+1:idx[i]+(chunk_size+1)])\n",
    "    \n",
    "    input_batch = np.array(input_batch)\n",
    "    target_batch = np.array(target_batch)\n",
    "\n",
    "    return input_batch, target_batch\n"
   ],
   "outputs": [],
   "execution_count": 5
  },
  {
   "cell_type": "code",
   "id": "09e8ee26",
   "metadata": {
    "ExecuteTime": {
     "end_time": "2025-07-30T13:27:13.453623Z",
     "start_time": "2025-07-30T13:27:12.674455Z"
    }
   },
   "source": [
    "with open (r\"corpora/Shakespeare_byte.txt\", 'r') as f:\n",
    "  shakespeare_byte_train = eval(f.read())\n",
    "\n",
    "with open (r\"corpora/vocab_train.txt\", 'r') as f:\n",
    "  vocab_train = eval(f.read())\n",
    "\n",
    "vocab = vocab_train\n",
    "indices = np.arange(0,len(vocab),1)\n",
    "# inidces = indices.astype(int)\n",
    "indices = indices.tolist()\n",
    "key_byte = dict(zip(vocab, indices))\n",
    "value_byte = dict(zip(indices,vocab))\n",
    "\n",
    "# Map each token in shakespeare_byte_train to its index using key_byte\n",
    "indices_translation = [key_byte[token] for token in shakespeare_byte_train if token in key_byte]\n",
    "\n",
    "with open('corpora/indices_text.txt', 'w') as indices_text:\n",
    "    indices_text.write(str(indices_translation))"
   ],
   "outputs": [],
   "execution_count": 3
  },
  {
   "cell_type": "code",
   "id": "e36e0deb",
   "metadata": {
    "ExecuteTime": {
     "end_time": "2025-07-30T13:27:41.631277Z",
     "start_time": "2025-07-30T13:27:40.900932Z"
    }
   },
   "source": [
    "with open (r\"corpora/indices_text.txt\", 'r') as f:\n",
    "  indices_text = eval(f.read())\n",
    "  \n",
    "x,y = get_batch(indices_text,4,8)\n",
    "print(x.shape)\n",
    "print(x)\n",
    "print(y.shape)\n",
    "print(y)"
   ],
   "outputs": [
    {
     "name": "stdout",
     "output_type": "stream",
     "text": [
      "<class 'list'>\n",
      "(3, 8)\n",
      "[[ 932  515 1283 1302 1417  808   86 1384]\n",
      " [ 803  510  994  814  790  437  847  995]\n",
      " [ 870  914 1292  810 1147  465  438 1466]]\n",
      "(3, 8)\n",
      "[[ 515 1283 1302 1417  808   86 1384  806]\n",
      " [ 510  994  814  790  437  847  995 1539]\n",
      " [ 914 1292  810 1147  465  438 1466 1358]]\n"
     ]
    }
   ],
   "execution_count": 6
  },
  {
   "metadata": {},
   "cell_type": "code",
   "outputs": [],
   "execution_count": null,
   "source": "",
   "id": "3d5d774b8b075ee5"
  }
 ],
 "metadata": {
  "kernelspec": {
   "display_name": "Python 3",
   "language": "python",
   "name": "python3"
  },
  "language_info": {
   "codemirror_mode": {
    "name": "ipython",
    "version": 3
   },
   "file_extension": ".py",
   "mimetype": "text/x-python",
   "name": "python",
   "nbconvert_exporter": "python",
   "pygments_lexer": "ipython3",
   "version": "3.11.9"
  }
 },
 "nbformat": 4,
 "nbformat_minor": 5
}

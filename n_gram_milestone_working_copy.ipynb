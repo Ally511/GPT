{
 "cells": [
  {
   "cell_type": "code",
   "execution_count": null,
   "id": "832622a7",
   "metadata": {},
   "outputs": [],
   "source": [
    "\"\"\"import self-written function and classes\"\"\"\n",
    "from n_gram.generator import to_byte_pair,generate\n",
    "from n_gram.n_gram import N_gram\n",
    "from utility_functions import get_top_bigrams,get_words\n",
    "from utility_functions import generate_n_grams\n",
    "from BPE_function import bpe,get_best_merges\n"
   ]
  },
  {
   "cell_type": "code",
   "execution_count": 2,
   "id": "9c8a1857",
   "metadata": {},
   "outputs": [],
   "source": [
    "\"\"\"load Shakespeare text (train,validation,test) that is converted into byte pairs (computed from bpe task)\"\"\"\n",
    "with open (r\"corpora/Shakespeare_byte.txt\", 'r') as f:\n",
    "  n_gram_corps_train = eval(f.read())\n",
    "with open (r\"corpora/Shakespeare_byte_valid.txt\", 'r') as f:\n",
    "  n_gram_corps_valid = eval(f.read())\n",
    "with open (r\"corpora/Shakespeare_byte_test.txt\", 'r') as f:\n",
    "  n_gram_corps_test = eval(f.read())\n",
    "with open (r\"corpora/vocab_train.txt\", 'r') as f:\n",
    "  vocab_train = eval(f.read())\n",
    "\n",
    "with open (r\"corpora/Shakespeare_clean_train.txt\", 'r') as f:\n",
    "  text_train = f.read()\n",
    "with open (r\"corpora/Shakespeare_clean_valid.txt\", 'r') as f:\n",
    "  text_valid = f.read()\n",
    "with open (r\"corpora/Shakespeare_clean_test.txt\", 'r') as f:\n",
    "  text_test = f.read()\n"
   ]
  },
  {
   "cell_type": "code",
   "execution_count": 3,
   "id": "0cec6353",
   "metadata": {},
   "outputs": [
    {
     "name": "stdout",
     "output_type": "stream",
     "text": [
      "N-gram split for 1-gram, k = 1: [['t'], ['h'], ['e_'], ['t'], ['r'], ['a'], ['g'], ['e'], ['d'], ['y']]\n",
      "Old perplexity: 99999999.99739355\n",
      "Perplexity: 20.96\n",
      "N-gram split for 2-gram, k = 1: [['t', 'h'], ['h', 'e_'], ['e_', 't'], ['t', 'r'], ['r', 'a'], ['a', 'g'], ['g', 'e'], ['e', 'd'], ['d', 'y'], ['y', '_']]\n",
      "Old perplexity: 11.468694365541726\n",
      "Perplexity: 11.47\n",
      "N-gram split for 3-gram, k = 1: [['t', 'h', 'e_'], ['h', 'e_', 't'], ['e_', 't', 'r'], ['t', 'r', 'a'], ['r', 'a', 'g'], ['a', 'g', 'e'], ['g', 'e', 'd'], ['e', 'd', 'y'], ['d', 'y', '_'], ['y', '_', 'o']]\n",
      "Old perplexity: 7.228038030774949\n",
      "Perplexity: 7.22\n",
      "N-gram split for 4-gram, k = 1: [['t', 'h', 'e_', 't'], ['h', 'e_', 't', 'r'], ['e_', 't', 'r', 'a'], ['t', 'r', 'a', 'g'], ['r', 'a', 'g', 'e'], ['a', 'g', 'e', 'd'], ['g', 'e', 'd', 'y'], ['e', 'd', 'y', '_'], ['d', 'y', '_', 'o'], ['y', '_', 'o', 'f']]\n",
      "Old perplexity: 5.579981052483965\n",
      "Perplexity: 5.49\n",
      "N-gram split for 1-gram, k = 201: [['the_'], ['t'], ['ra'], ['g'], ['e'], ['d'], ['y_'], ['of_'], ['anton'], ['y_']]\n",
      "Old perplexity: 100000000.00129549\n",
      "Perplexity: 258.50\n",
      "N-gram split for 2-gram, k = 201: [['the_', 't'], ['t', 'ra'], ['ra', 'g'], ['g', 'e'], ['e', 'd'], ['d', 'y_'], ['y_', 'of_'], ['of_', 'anton'], ['anton', 'y_'], ['y_', 'and_']]\n",
      "Old perplexity: 259.45512899071264\n",
      "Perplexity: 155.71\n",
      "N-gram split for 3-gram, k = 201: [['the_', 't', 'ra'], ['t', 'ra', 'g'], ['ra', 'g', 'e'], ['g', 'e', 'd'], ['e', 'd', 'y_'], ['d', 'y_', 'of_'], ['y_', 'of_', 'anton'], ['of_', 'anton', 'y_'], ['anton', 'y_', 'and_'], ['y_', 'and_', 'c']]\n",
      "Old perplexity: 2524.0733419638964\n",
      "Perplexity: 513.84\n",
      "N-gram split for 4-gram, k = 201: [['the_', 't', 'ra', 'g'], ['t', 'ra', 'g', 'e'], ['ra', 'g', 'e', 'd'], ['g', 'e', 'd', 'y_'], ['e', 'd', 'y_', 'of_'], ['d', 'y_', 'of_', 'anton'], ['y_', 'of_', 'anton', 'y_'], ['of_', 'anton', 'y_', 'and_'], ['anton', 'y_', 'and_', 'c'], ['y_', 'and_', 'c', 'le']]\n",
      "Old perplexity: 101094.50211244609\n",
      "Perplexity: 1217.06\n",
      "N-gram split for 1-gram, k = 401: [['the_'], ['t'], ['ra'], ['g'], ['e'], ['dy_'], ['of_'], ['antony_'], ['and_'], ['cleopatra_']]\n",
      "Old perplexity: 100000000.00080416\n",
      "Perplexity: 412.59\n",
      "N-gram split for 2-gram, k = 401: [['the_', 't'], ['t', 'ra'], ['ra', 'g'], ['g', 'e'], ['e', 'dy_'], ['dy_', 'of_'], ['of_', 'antony_'], ['antony_', 'and_'], ['and_', 'cleopatra_'], ['cleopatra_', 'd']]\n",
      "Old perplexity: 414.59890932357\n",
      "Perplexity: 248.25\n",
      "N-gram split for 3-gram, k = 401: [['the_', 't', 'ra'], ['t', 'ra', 'g'], ['ra', 'g', 'e'], ['g', 'e', 'dy_'], ['e', 'dy_', 'of_'], ['dy_', 'of_', 'antony_'], ['of_', 'antony_', 'and_'], ['antony_', 'and_', 'cleopatra_'], ['and_', 'cleopatra_', 'd'], ['cleopatra_', 'd', 'ra']]\n",
      "Old perplexity: 11726.485966175453\n",
      "Perplexity: 1866.99\n",
      "N-gram split for 4-gram, k = 401: [['the_', 't', 'ra', 'g'], ['t', 'ra', 'g', 'e'], ['ra', 'g', 'e', 'dy_'], ['g', 'e', 'dy_', 'of_'], ['e', 'dy_', 'of_', 'antony_'], ['dy_', 'of_', 'antony_', 'and_'], ['of_', 'antony_', 'and_', 'cleopatra_'], ['antony_', 'and_', 'cleopatra_', 'd'], ['and_', 'cleopatra_', 'd', 'ra'], ['cleopatra_', 'd', 'ra', 'ma']]\n",
      "Old perplexity: 410759.2627851556\n",
      "Perplexity: 1664.94\n",
      "N-gram split for 1-gram, k = 601: [['the_'], ['tra'], ['ge'], ['dy_'], ['of_'], ['antony_'], ['and_'], ['cleopatra_'], ['dr'], ['a']]\n",
      "Old perplexity: 100000000.00049968\n",
      "Perplexity: 622.14\n",
      "N-gram split for 2-gram, k = 601: [['the_', 'tra'], ['tra', 'ge'], ['ge', 'dy_'], ['dy_', 'of_'], ['of_', 'antony_'], ['antony_', 'and_'], ['and_', 'cleopatra_'], ['cleopatra_', 'dr'], ['dr', 'a'], ['a', 'ma']]\n",
      "Old perplexity: 1009.4868655295143\n",
      "Perplexity: 507.40\n",
      "N-gram split for 3-gram, k = 601: [['the_', 'tra', 'ge'], ['tra', 'ge', 'dy_'], ['ge', 'dy_', 'of_'], ['dy_', 'of_', 'antony_'], ['of_', 'antony_', 'and_'], ['antony_', 'and_', 'cleopatra_'], ['and_', 'cleopatra_', 'dr'], ['cleopatra_', 'dr', 'a'], ['dr', 'a', 'ma'], ['a', 'ma', 'tis_']]\n",
      "Old perplexity: 47304.71850304122\n",
      "Perplexity: 3753.30\n",
      "N-gram split for 4-gram, k = 601: [['the_', 'tra', 'ge', 'dy_'], ['tra', 'ge', 'dy_', 'of_'], ['ge', 'dy_', 'of_', 'antony_'], ['dy_', 'of_', 'antony_', 'and_'], ['of_', 'antony_', 'and_', 'cleopatra_'], ['antony_', 'and_', 'cleopatra_', 'dr'], ['and_', 'cleopatra_', 'dr', 'a'], ['cleopatra_', 'dr', 'a', 'ma'], ['dr', 'a', 'ma', 'tis_'], ['a', 'ma', 'tis_', 'per']]\n",
      "Old perplexity: 1204016.94723188\n",
      "Perplexity: 2020.62\n",
      "N-gram split for 1-gram, k = 801: [['the_'], ['tra'], ['ge'], ['dy_'], ['of_'], ['antony_'], ['and_'], ['cleopatra_'], ['dra'], ['ma']]\n",
      "Old perplexity: 100000000.00025633\n",
      "Perplexity: 737.05\n",
      "N-gram split for 2-gram, k = 801: [['the_', 'tra'], ['tra', 'ge'], ['ge', 'dy_'], ['dy_', 'of_'], ['of_', 'antony_'], ['antony_', 'and_'], ['and_', 'cleopatra_'], ['cleopatra_', 'dra'], ['dra', 'ma'], ['ma', 'tis_']]\n",
      "Old perplexity: 1367.1655751028966\n",
      "Perplexity: 669.47\n",
      "N-gram split for 3-gram, k = 801: [['the_', 'tra', 'ge'], ['tra', 'ge', 'dy_'], ['ge', 'dy_', 'of_'], ['dy_', 'of_', 'antony_'], ['of_', 'antony_', 'and_'], ['antony_', 'and_', 'cleopatra_'], ['and_', 'cleopatra_', 'dra'], ['cleopatra_', 'dra', 'ma'], ['dra', 'ma', 'tis_'], ['ma', 'tis_', 'per']]\n",
      "Old perplexity: 78936.3398863297\n",
      "Perplexity: 5107.93\n",
      "N-gram split for 4-gram, k = 801: [['the_', 'tra', 'ge', 'dy_'], ['tra', 'ge', 'dy_', 'of_'], ['ge', 'dy_', 'of_', 'antony_'], ['dy_', 'of_', 'antony_', 'and_'], ['of_', 'antony_', 'and_', 'cleopatra_'], ['antony_', 'and_', 'cleopatra_', 'dra'], ['and_', 'cleopatra_', 'dra', 'ma'], ['cleopatra_', 'dra', 'ma', 'tis_'], ['dra', 'ma', 'tis_', 'per'], ['ma', 'tis_', 'per', 'so']]\n",
      "Old perplexity: 1821964.6603711802\n",
      "Perplexity: 2322.28\n",
      "N-gram split for 1-gram, k = 1001: [['the_'], ['tra'], ['ge'], ['dy_'], ['of_'], ['antony_'], ['and_'], ['cleopatra_'], ['dra'], ['ma']]\n",
      "Old perplexity: 100000000.00007762\n",
      "Perplexity: 871.61\n",
      "N-gram split for 2-gram, k = 1001: [['the_', 'tra'], ['tra', 'ge'], ['ge', 'dy_'], ['dy_', 'of_'], ['of_', 'antony_'], ['antony_', 'and_'], ['and_', 'cleopatra_'], ['cleopatra_', 'dra'], ['dra', 'ma'], ['ma', 'tis_']]\n",
      "Old perplexity: 1768.2909927592796\n",
      "Perplexity: 803.00\n",
      "N-gram split for 3-gram, k = 1001: [['the_', 'tra', 'ge'], ['tra', 'ge', 'dy_'], ['ge', 'dy_', 'of_'], ['dy_', 'of_', 'antony_'], ['of_', 'antony_', 'and_'], ['antony_', 'and_', 'cleopatra_'], ['and_', 'cleopatra_', 'dra'], ['cleopatra_', 'dra', 'ma'], ['dra', 'ma', 'tis_'], ['ma', 'tis_', 'per']]\n",
      "Old perplexity: 111619.35202987892\n",
      "Perplexity: 5910.67\n",
      "N-gram split for 4-gram, k = 1001: [['the_', 'tra', 'ge', 'dy_'], ['tra', 'ge', 'dy_', 'of_'], ['ge', 'dy_', 'of_', 'antony_'], ['dy_', 'of_', 'antony_', 'and_'], ['of_', 'antony_', 'and_', 'cleopatra_'], ['antony_', 'and_', 'cleopatra_', 'dra'], ['and_', 'cleopatra_', 'dra', 'ma'], ['cleopatra_', 'dra', 'ma', 'tis_'], ['dra', 'ma', 'tis_', 'per'], ['ma', 'tis_', 'per', 'so']]\n",
      "Old perplexity: 2263292.63959192\n",
      "Perplexity: 2434.01\n",
      "N-gram split for 1-gram, k = 1201: [['the_'], ['tra'], ['ge'], ['dy_'], ['of_'], ['antony_'], ['and_'], ['cleopatra_'], ['dra'], ['ma']]\n",
      "Old perplexity: 99999999.99994084\n",
      "Perplexity: 887.49\n",
      "N-gram split for 2-gram, k = 1201: [['the_', 'tra'], ['tra', 'ge'], ['ge', 'dy_'], ['dy_', 'of_'], ['of_', 'antony_'], ['antony_', 'and_'], ['and_', 'cleopatra_'], ['cleopatra_', 'dra'], ['dra', 'ma'], ['ma', 'tis_']]\n",
      "Old perplexity: 1807.6124805423726\n",
      "Perplexity: 854.56\n",
      "N-gram split for 3-gram, k = 1201: [['the_', 'tra', 'ge'], ['tra', 'ge', 'dy_'], ['ge', 'dy_', 'of_'], ['dy_', 'of_', 'antony_'], ['of_', 'antony_', 'and_'], ['antony_', 'and_', 'cleopatra_'], ['and_', 'cleopatra_', 'dra'], ['cleopatra_', 'dra', 'ma'], ['dra', 'ma', 'tis_'], ['ma', 'tis_', 'per']]\n",
      "Old perplexity: 125916.22303308363\n",
      "Perplexity: 6468.19\n",
      "N-gram split for 4-gram, k = 1201: [['the_', 'tra', 'ge', 'dy_'], ['tra', 'ge', 'dy_', 'of_'], ['ge', 'dy_', 'of_', 'antony_'], ['dy_', 'of_', 'antony_', 'and_'], ['of_', 'antony_', 'and_', 'cleopatra_'], ['antony_', 'and_', 'cleopatra_', 'dra'], ['and_', 'cleopatra_', 'dra', 'ma'], ['cleopatra_', 'dra', 'ma', 'tis_'], ['dra', 'ma', 'tis_', 'per'], ['ma', 'tis_', 'per', 'so']]\n",
      "Old perplexity: 2353828.229703354\n",
      "Perplexity: 2328.88\n",
      "N-gram split for 1-gram, k = 1401: [['the_'], ['tra'], ['ge'], ['dy_'], ['of_'], ['antony_'], ['and_'], ['cleopatra_'], ['dra'], ['ma']]\n",
      "Old perplexity: 99999999.99982077\n",
      "Perplexity: 964.03\n",
      "N-gram split for 2-gram, k = 1401: [['the_', 'tra'], ['tra', 'ge'], ['ge', 'dy_'], ['dy_', 'of_'], ['of_', 'antony_'], ['antony_', 'and_'], ['and_', 'cleopatra_'], ['cleopatra_', 'dra'], ['dra', 'ma'], ['ma', 'tis_']]\n",
      "Old perplexity: 2063.5182311527665\n",
      "Perplexity: 959.91\n",
      "N-gram split for 3-gram, k = 1401: [['the_', 'tra', 'ge'], ['tra', 'ge', 'dy_'], ['ge', 'dy_', 'of_'], ['dy_', 'of_', 'antony_'], ['of_', 'antony_', 'and_'], ['antony_', 'and_', 'cleopatra_'], ['and_', 'cleopatra_', 'dra'], ['cleopatra_', 'dra', 'ma'], ['dra', 'ma', 'tis_'], ['ma', 'tis_', 'per']]\n",
      "Old perplexity: 141754.83256497796\n",
      "Perplexity: 6653.55\n",
      "N-gram split for 4-gram, k = 1401: [['the_', 'tra', 'ge', 'dy_'], ['tra', 'ge', 'dy_', 'of_'], ['ge', 'dy_', 'of_', 'antony_'], ['dy_', 'of_', 'antony_', 'and_'], ['of_', 'antony_', 'and_', 'cleopatra_'], ['antony_', 'and_', 'cleopatra_', 'dra'], ['and_', 'cleopatra_', 'dra', 'ma'], ['cleopatra_', 'dra', 'ma', 'tis_'], ['dra', 'ma', 'tis_', 'per'], ['ma', 'tis_', 'per', 'son']]\n",
      "Old perplexity: 2452344.3362180977\n",
      "Perplexity: 2351.99\n",
      "N-gram split for 1-gram, k = 1601: [['the_'], ['tra'], ['ge'], ['dy_'], ['of_'], ['antony_'], ['and_'], ['cleopatra_'], ['dra'], ['ma']]\n",
      "Old perplexity: 99999999.99971952\n",
      "Perplexity: 1005.03\n",
      "N-gram split for 2-gram, k = 1601: [['the_', 'tra'], ['tra', 'ge'], ['ge', 'dy_'], ['dy_', 'of_'], ['of_', 'antony_'], ['antony_', 'and_'], ['and_', 'cleopatra_'], ['cleopatra_', 'dra'], ['dra', 'ma'], ['ma', 'tis_']]\n",
      "Old perplexity: 2456.745817253239\n",
      "Perplexity: 1141.03\n",
      "N-gram split for 3-gram, k = 1601: [['the_', 'tra', 'ge'], ['tra', 'ge', 'dy_'], ['ge', 'dy_', 'of_'], ['dy_', 'of_', 'antony_'], ['of_', 'antony_', 'and_'], ['antony_', 'and_', 'cleopatra_'], ['and_', 'cleopatra_', 'dra'], ['cleopatra_', 'dra', 'ma'], ['dra', 'ma', 'tis_'], ['ma', 'tis_', 'per']]\n",
      "Old perplexity: 168693.00508986867\n",
      "Perplexity: 6880.52\n",
      "N-gram split for 4-gram, k = 1601: [['the_', 'tra', 'ge', 'dy_'], ['tra', 'ge', 'dy_', 'of_'], ['ge', 'dy_', 'of_', 'antony_'], ['dy_', 'of_', 'antony_', 'and_'], ['of_', 'antony_', 'and_', 'cleopatra_'], ['antony_', 'and_', 'cleopatra_', 'dra'], ['and_', 'cleopatra_', 'dra', 'ma'], ['cleopatra_', 'dra', 'ma', 'tis_'], ['dra', 'ma', 'tis_', 'per'], ['ma', 'tis_', 'per', 'son']]\n",
      "Old perplexity: 2565285.9022508226\n",
      "Perplexity: 2255.16\n",
      "N-gram split for 1-gram, k = 1801: [['the_'], ['tra'], ['ge'], ['dy_'], ['of_'], ['antony_'], ['and_'], ['cleopatra_'], ['dra'], ['ma']]\n",
      "Old perplexity: 99999999.99963354\n",
      "Perplexity: 1046.46\n",
      "N-gram split for 2-gram, k = 1801: [['the_', 'tra'], ['tra', 'ge'], ['ge', 'dy_'], ['dy_', 'of_'], ['of_', 'antony_'], ['antony_', 'and_'], ['and_', 'cleopatra_'], ['cleopatra_', 'dra'], ['dra', 'ma'], ['ma', 'tis_']]\n",
      "Old perplexity: 2775.903042179508\n",
      "Perplexity: 1275.21\n",
      "N-gram split for 3-gram, k = 1801: [['the_', 'tra', 'ge'], ['tra', 'ge', 'dy_'], ['ge', 'dy_', 'of_'], ['dy_', 'of_', 'antony_'], ['of_', 'antony_', 'and_'], ['antony_', 'and_', 'cleopatra_'], ['and_', 'cleopatra_', 'dra'], ['cleopatra_', 'dra', 'ma'], ['dra', 'ma', 'tis_'], ['ma', 'tis_', 'per']]\n",
      "Old perplexity: 186265.69873470426\n",
      "Perplexity: 7032.50\n",
      "N-gram split for 4-gram, k = 1801: [['the_', 'tra', 'ge', 'dy_'], ['tra', 'ge', 'dy_', 'of_'], ['ge', 'dy_', 'of_', 'antony_'], ['dy_', 'of_', 'antony_', 'and_'], ['of_', 'antony_', 'and_', 'cleopatra_'], ['antony_', 'and_', 'cleopatra_', 'dra'], ['and_', 'cleopatra_', 'dra', 'ma'], ['cleopatra_', 'dra', 'ma', 'tis_'], ['dra', 'ma', 'tis_', 'per'], ['ma', 'tis_', 'per', 'son']]\n",
      "Old perplexity: 2608626.2912465357\n",
      "Perplexity: 2221.86\n"
     ]
    }
   ],
   "source": [
    "with open (r\"corpora/Shakespeare_clean_valid.txt\", 'r') as f:\n",
    "  text_valid = f.read()\n",
    "  \n",
    "dict_train = get_words(text_train)\n",
    "dict_valid = get_words(text_valid)\n",
    "dict_test = get_words(text_test)\n",
    "\n",
    "best_k,best_perplexity,best_n_gram,second_best_k,second_best_perplexity,second_best_n_gram,third_best_k,third_best_perplexity,third_best_n_gram = get_best_merges(dict_train, text_train, dict_valid,text_valid,2000,200)\n",
    "result = str([\"best k:\",best_k,\"best n gram\", best_n_gram,\"best k perplexity:\",best_perplexity,\"2nd best k:\",second_best_k,\"2nd best n gram\", second_best_n_gram,\"2nd best k perplexity:\",second_best_perplexity,\"3rd best k:\",third_best_k,\"3rd best n gram\",third_best_n_gram,\"3rd best k perplexity:\",third_best_perplexity])\n",
    "with open(\"k_merges_n_gram.txt\", \"a\") as k_merges_n_gram:\n",
    "  k_merges_n_gram.write(result)\n",
    "\n",
    "\n"
   ]
  },
  {
   "cell_type": "code",
   "execution_count": null,
   "id": "dfc811be",
   "metadata": {},
   "outputs": [],
   "source": [
    "#open and read the file after the appending:\n",
    "with open(\"k_merges_n_gram.txt\") as k_merges_n_gram:\n",
    "    k_merges_n_gram = eval(k_merges_n_gram.read())\n",
    "\n",
    "vocab_train,_,_ = bpe(dict_train,best_k)\n",
    "text = to_byte_pair(text_train, vocab_train)\n",
    "\n",
    "with open(\"Shakespeare_best_merge_train.txt\", \"a\") as Shakespeare_best_merge_train:\n",
    "  Shakespeare_best_merge_train.write(str(text))\n",
    "\n",
    "vocab_train,_,_ = bpe(dict_train,second_best_k)\n",
    "text = to_byte_pair(text_train, vocab_train)\n",
    "\n",
    "with open(\"Shakespeare_2nd_best_merge_train.txt\", \"a\") as Shakespeare_2nd_best_merge_train:\n",
    "  Shakespeare_2nd_best_merge_train.write(str(text))\n",
    "\n",
    "vocab_train,_,_ = bpe(dict_train,third_best_k)\n",
    "text = to_byte_pair(text_train, vocab_train)\n",
    "\n",
    "with open(\"Shakespeare_3rd_best_merge_train.txt\", \"a\") as Shakespeare_3rd_best_merge_train:\n",
    "  Shakespeare_3rd_best_merge_train.write(str(text))\n",
    "\n",
    "vocab_valid,_,_ = bpe(dict_valid,best_k)\n",
    "text = to_byte_pair(text_valid, vocab_valid)\n",
    "\n",
    "with open(\"Shakespeare_best_merge_valid.txt\", \"a\") as Shakespeare_best_merge_valid:\n",
    "  Shakespeare_best_merge_valid.write(str(text))\n",
    "\n",
    "vocab_valid,_,_ = bpe(dict_valid,second_best_k)\n",
    "text = to_byte_pair(text_valid, vocab_valid)\n",
    "\n",
    "with open(\"Shakespeare_2nd_best_merge_valid.txt\", \"a\") as Shakespeare_2nd_best_merge_valid:\n",
    "  Shakespeare_2nd_best_merge_valid.write(str(text))\n",
    "\n",
    "vocab_valid,_,_ = bpe(dict_valid,third_best_k)\n",
    "text = to_byte_pair(text_valid, vocab_valid)\n",
    "\n",
    "with open(\"Shakespeare_3rd_best_merge_valid.txt\", \"a\") as Shakespeare_3rd_best_merge_valid:\n",
    "  Shakespeare_3rd_best_merge_valid.write(str(text))\n",
    "\n",
    "vocab_test,_,_ = bpe(dict_test,best_k)\n",
    "text = to_byte_pair(text_test, vocab_test)\n",
    "\n",
    "with open(\"Shakespeare_best_merge_test.txt\", \"a\") as Shakespeare_best_merge_test:\n",
    "  Shakespeare_best_merge_test.write(str(text))\n",
    "\n",
    "vocab_test,_,_ = bpe(dict_test,second_best_k)\n",
    "text = to_byte_pair(text_test, vocab_test)\n",
    "\n",
    "with open(\"Shakespeare_2nd_best_merge_test.txt\", \"a\") as Shakespeare_2nd_best_merge_test:\n",
    "  Shakespeare_2nd_best_merge_test.write(str(text))\n",
    "\n",
    "vocab_test,_,_ = bpe(dict_test,third_best_k)\n",
    "text = to_byte_pair(text_test, vocab_test)\n",
    "\n",
    "with open(\"Shakespeare_3rd_best_merge_test.txt\", \"a\") as Shakespeare_3rd_best_merge_test:\n",
    "  Shakespeare_3rd_best_merge_test.write(str(text))\n"
   ]
  },
  {
   "cell_type": "code",
   "execution_count": 3,
   "id": "07260f75",
   "metadata": {},
   "outputs": [
    {
     "name": "stdout",
     "output_type": "stream",
     "text": [
      "<class 'list'>\n",
      "<class 'list'>\n",
      "<class 'list'>\n",
      "<class 'list'>\n",
      "N-gram split: [['the_'], ['tra'], ['ge'], ['dy_'], ['of_'], ['antony_'], ['and_'], ['cleopatra_'], ['dra'], ['mat']]\n",
      "Perplexity: 99999999.99930385\n",
      "N-gram split: [['the_', 'tra'], ['tra', 'ge'], ['ge', 'dy_'], ['dy_', 'of_'], ['of_', 'antony_'], ['antony_', 'and_'], ['and_', 'cleopatra_'], ['cleopatra_', 'dra'], ['dra', 'mat'], ['mat', 'is_']]\n",
      "Perplexity: 655.4446631935913\n",
      "N-gram split: [['the_', 'tra', 'ge'], ['tra', 'ge', 'dy_'], ['ge', 'dy_', 'of_'], ['dy_', 'of_', 'antony_'], ['of_', 'antony_', 'and_'], ['antony_', 'and_', 'cleopatra_'], ['and_', 'cleopatra_', 'dra'], ['cleopatra_', 'dra', 'mat'], ['dra', 'mat', 'is_'], ['mat', 'is_', 'per']]\n",
      "Perplexity: 152241.35528728817\n",
      "N-gram split: [['the_', 'tra', 'ge', 'dy_'], ['tra', 'ge', 'dy_', 'of_'], ['ge', 'dy_', 'of_', 'antony_'], ['dy_', 'of_', 'antony_', 'and_'], ['of_', 'antony_', 'and_', 'cleopatra_'], ['antony_', 'and_', 'cleopatra_', 'dra'], ['and_', 'cleopatra_', 'dra', 'mat'], ['cleopatra_', 'dra', 'mat', 'is_'], ['dra', 'mat', 'is_', 'per'], ['mat', 'is_', 'per', 'son']]\n",
      "Perplexity: 4438035.528334523\n"
     ]
    }
   ],
   "source": [
    "our_n_grams = generate_n_grams(n_gram_corps_train,4)\n",
    "\n",
    "for n_gram in our_n_grams:\n",
    "    print(f\"N-gram split: {n_gram.split_text[:10]}\")\n",
    "    perplexity = n_gram.perplexity(n_gram_corps_test)"
   ]
  },
  {
   "cell_type": "code",
   "execution_count": 4,
   "id": "3f9b7f43",
   "metadata": {},
   "outputs": [
    {
     "name": "stdout",
     "output_type": "stream",
     "text": [
      "cleopatra is my blessip i would do exchange thee for their confound he would scionspoke thy curses thus i might take from mood i therefore my eyes and nicket pastorched his very palm with pompey whip ; \n"
     ]
    }
   ],
   "source": [
    "n_list = [our_n_grams[0].n_gram_probs, our_n_grams[1].n_gram_probs]\n",
    "\n",
    "text = generate(\"cleopatra is my\", n_list, 2, vocab_train)\n",
    "print(text)"
   ]
  },
  {
   "cell_type": "code",
   "execution_count": 5,
   "id": "fbc2a2eb",
   "metadata": {},
   "outputs": [
    {
     "name": "stdout",
     "output_type": "stream",
     "text": [
      "cleopatra is my vourchless and i folly day is merit all too !\n"
     ]
    }
   ],
   "source": [
    "n_list = [our_n_grams[0].n_gram_probs, our_n_grams[1].n_gram_probs,our_n_grams[2].n_gram_probs]\n",
    "\n",
    "text = generate(\"cleopatra is my\", n_list, 2, vocab_train)\n",
    "print(text)"
   ]
  },
  {
   "cell_type": "code",
   "execution_count": 6,
   "id": "d48afa81",
   "metadata": {},
   "outputs": [
    {
     "name": "stdout",
     "output_type": "stream",
     "text": [
      "cleopatra is my bed and now and lady : \n"
     ]
    }
   ],
   "source": [
    "n_list = [our_n_grams[0].n_gram_probs, our_n_grams[1].n_gram_probs,our_n_grams[2].n_gram_probs,our_n_grams[3].n_gram_probs]\n",
    "\n",
    "text = generate(\"cleopatra is my\", n_list, 2, vocab_train)\n",
    "print(text)"
   ]
  }
 ],
 "metadata": {
  "kernelspec": {
   "display_name": "base",
   "language": "python",
   "name": "python3"
  },
  "language_info": {
   "codemirror_mode": {
    "name": "ipython",
    "version": 3
   },
   "file_extension": ".py",
   "mimetype": "text/x-python",
   "name": "python",
   "nbconvert_exporter": "python",
   "pygments_lexer": "ipython3",
   "version": "3.9.20"
  }
 },
 "nbformat": 4,
 "nbformat_minor": 5
}

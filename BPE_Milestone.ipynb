{
 "cells": [
  {
   "cell_type": "code",
   "execution_count": 1,
   "id": "5a9a86ea",
   "metadata": {},
   "outputs": [],
   "source": [
    "\"\"\"import self-written functions\"\"\"\n",
    "from utility_functions import get_words,performance,compare_to_gpt_encoding\n",
    "from BPE_function import bpe"
   ]
  },
  {
   "cell_type": "code",
   "execution_count": 8,
   "id": "a50e9212",
   "metadata": {},
   "outputs": [],
   "source": [
    "\"\"\"read training and test data\"\"\"\n",
    "with open (r\"corpora/Shakespeare_clean_train.txt\", 'r') as f:\n",
    "  text_train = f.read()\n",
    "with open (r\"corpora/Shakespeare_clean_test.txt\", 'r') as f:\n",
    "  text_test = f.read()"
   ]
  },
  {
   "cell_type": "code",
   "execution_count": 9,
   "id": "6494fcd4",
   "metadata": {},
   "outputs": [
    {
     "ename": "TypeError",
     "evalue": "bpe() missing 1 required positional argument: 'k'",
     "output_type": "error",
     "traceback": [
      "\u001b[31m---------------------------------------------------------------------------\u001b[39m",
      "\u001b[31mTypeError\u001b[39m                                 Traceback (most recent call last)",
      "\u001b[36mCell\u001b[39m\u001b[36m \u001b[39m\u001b[32mIn[9]\u001b[39m\u001b[32m, line 7\u001b[39m\n\u001b[32m      4\u001b[39m dict_test = get_words(text_test)\n\u001b[32m      6\u001b[39m \u001b[38;5;66;03m#builds the byte pair vocabulary and the sorted token frequency\u001b[39;00m\n\u001b[32m----> \u001b[39m\u001b[32m7\u001b[39m vocab_train, sorted_token_freq_train, dict_matrix_train = \u001b[43mbpe\u001b[49m\u001b[43m(\u001b[49m\u001b[43mdict_train\u001b[49m\u001b[43m)\u001b[49m\n",
      "\u001b[31mTypeError\u001b[39m: bpe() missing 1 required positional argument: 'k'"
     ]
    }
   ],
   "source": [
    "\"\"\"train a dictionary of byte pairs and their respective counts on training and test data\"\"\"\n",
    "#extract words from the text\n",
    "dict_train = get_words(text_train)\n",
    "dict_test = get_words(text_test)\n",
    "\n",
    "#builds the byte pair vocabulary and the sorted token frequency\n",
    "vocab_train, sorted_token_freq_train, dict_matrix_train = bpe(dict_train)"
   ]
  },
  {
   "cell_type": "code",
   "execution_count": null,
   "id": "bb2ba50a",
   "metadata": {},
   "outputs": [],
   "source": [
    "\"\"\"test and print performance of training and test set\"\"\"\n",
    "train_accuracy = performance(dict_train, vocab_train, 500)\n",
    "test_accuracy = performance(dict_test, vocab_train, 500)\n",
    "\n",
    "print(\"train accuracy: \", train_accuracy)\n",
    "print(\"test accuracy: \", test_accuracy)"
   ]
  },
  {
   "cell_type": "code",
   "execution_count": null,
   "id": "af4ef0db",
   "metadata": {},
   "outputs": [],
   "source": [
    "\"\"\"compare our BPE split to split of another system (in this case gpt 3.5)\"\"\"\n",
    "with open (file_path, 'r') as f:\n",
    "  text = f.read()\n",
    "model_name=\"gpt-3.5-turbo\"\n",
    "tokens_train = compare_to_gpt_encoding(text_train, vocab_train, model_name)\n",
    "tokens_test = compare_to_gpt_encoding(text_test, vocab_train, model_name)"
   ]
  },
  {
   "cell_type": "code",
   "execution_count": null,
   "id": "7b4a8362",
   "metadata": {},
   "outputs": [],
   "source": [
    "\"\"\"run BPE split on different (non-shakespearean) test set and evaluate performance\"\"\"\n",
    "with open ('corpora/friends.txt', 'r') as f:\n",
    "  friends = f.read()\n",
    "\n",
    "friends_dict = get_words(friends)\n",
    "friends_accuracy = performance(friends_dict, vocab_train, 500)\n",
    "print(\"Accuracy on Friends: \", friends_accuracy)\n",
    "\n",
    "#also compare to gpt encoding of BPE split\n",
    "tokens_friends = compare_to_gpt_encoding(friends, vocab_train, model_name)"
   ]
  }
 ],
 "metadata": {
  "kernelspec": {
   "display_name": "Python 3",
   "language": "python",
   "name": "python3"
  },
  "language_info": {
   "codemirror_mode": {
    "name": "ipython",
    "version": 3
   },
   "file_extension": ".py",
   "mimetype": "text/x-python",
   "name": "python",
   "nbconvert_exporter": "python",
   "pygments_lexer": "ipython3",
   "version": "3.11.9"
  }
 },
 "nbformat": 4,
 "nbformat_minor": 5
}

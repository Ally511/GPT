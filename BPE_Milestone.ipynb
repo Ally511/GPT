{
 "cells": [
  {
   "cell_type": "code",
   "execution_count": null,
   "id": "5a9a86ea",
   "metadata": {},
   "outputs": [],
   "source": [
    "\"\"\"import self-written functions\"\"\"\n",
    "from utility_functions import get_words, performance, compare_to_gpt_encoding\n",
    "from BPE_function import bpe "
   ]
  },
  {
   "cell_type": "code",
   "execution_count": null,
   "id": "a50e9212",
   "metadata": {},
   "outputs": [],
   "source": [
    "\"\"\"read training and test data\"\"\"\n",
    "with open (r\"Shakespeare_clean_train.txt\", 'r') as f:\n",
    "  text_train = f.read()\n",
    "with open (r\"Shakespeare_clean_test.txt\", 'r') as f:\n",
    "  text_test = f.read()"
   ]
  },
  {
   "cell_type": "code",
   "execution_count": null,
   "id": "6494fcd4",
   "metadata": {},
   "outputs": [],
   "source": [
    "\"\"\"train a dictionary of byte pairs and their respective counts on training and test data\"\"\"\n",
    "#extract words from the text\n",
    "dict_train = get_words(text_train)\n",
    "dict_test = get_words(text_test)\n",
    "\n",
    "#builds the byte pair vocabulary and the sorted token frequency\n",
    "vocab_train, sorted_token_freq_train, dict_matrix_train = bpe(dict_train)"
   ]
  },
  {
   "cell_type": "code",
   "execution_count": null,
   "id": "bb2ba50a",
   "metadata": {},
   "outputs": [],
   "source": [
    "\"\"\"test and print performance of training and test set\"\"\"\n",
    "train_accuracy = performance(dict_train, vocab_train, 500)\n",
    "test_accuracy = performance(dict_test, vocab_train, 500)\n",
    "\n",
    "print(\"train accuracy: \", train_accuracy)\n",
    "print(\"test accuracy: \", test_accuracy)"
   ]
  },
  {
   "cell_type": "code",
   "execution_count": null,
   "id": "af4ef0db",
   "metadata": {},
   "outputs": [],
   "source": [
    "\"\"\"compare our BPE split to split of another system (in this case gpt 3.5)\"\"\"\n",
    "\n",
    "model_name=\"gpt-3.5-turbo\"\n",
    "tokens_train = compare_to_gpt_encoding(text_train, vocab_train, model_name)\n",
    "tokens_test = compare_to_gpt_encoding(text_test, vocab_train, model_name)"
   ]
  },
  {
   "cell_type": "code",
   "execution_count": null,
   "id": "7b4a8362",
   "metadata": {},
   "outputs": [],
   "source": [
    "\"\"\"run BPE split on different (non-shakespearean) test set and evaluate performance\"\"\"\n",
    "with open ('friends.txt', 'r') as f:\n",
    "  friends = f.read()\n",
    "\n",
    "friends_dict = get_words(friends)\n",
    "friends_accuracy = performance(friends_dict, vocab_train, 500)\n",
    "print(\"Accuracy on Friends: \", friends_accuracy)\n",
    "\n",
    "#also compare to gpt encoding of BPE split\n",
    "tokens_friends = compare_to_gpt_encoding(friends, vocab_train, model_name)"
   ]
  }
 ],
 "metadata": {
  "language_info": {
   "name": "python"
  }
 },
 "nbformat": 4,
 "nbformat_minor": 5
}

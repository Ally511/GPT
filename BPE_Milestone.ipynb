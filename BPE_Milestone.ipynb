{
 "cells": [
  {
   "cell_type": "code",
   "execution_count": 1,
   "id": "5a9a86ea",
   "metadata": {},
   "outputs": [],
   "source": [
    "\"\"\"import self-written functions\"\"\"\n",
    "from utility_functions import get_words,performance,compare_to_gpt_encoding\n",
    "from BPE_function import bpe"
   ]
  },
  {
   "cell_type": "code",
   "execution_count": null,
   "id": "a50e9212",
   "metadata": {},
   "outputs": [
    {
     "name": "stdout",
     "output_type": "stream",
     "text": [
      "<class 'str'>\n"
     ]
    }
   ],
   "source": [
    "\"\"\"read training and test data\"\"\"\n",
    "with open (r\"corpora/Shakespeare_clean_train.txt\", 'r') as f:\n",
    "  text_train = f.read()\n",
    "with open (r\"corpora/Shakespeare_clean_valid.txt\", 'r') as f:\n",
    "  text_valid = f.read()\n",
    "with open (r\"corpora/Shakespeare_clean_test.txt\", 'r') as f:\n",
    "  text_test = f.read()\n",
    "\n",
    "with open(\"k_merges_n_gram.txt\", \"r\") as f:\n",
    "    k_merges_n_gram = f.read().splitlines()\n",
    "\n"
   ]
  },
  {
   "cell_type": "code",
   "execution_count": null,
   "id": "6494fcd4",
   "metadata": {},
   "outputs": [],
   "source": [
    "\"\"\"train a dictionary of byte pairs and their respective counts on training and test data\"\"\"\n",
    "#extract words from the text\n",
    "dict_train = get_words(text_train)\n",
    "dict_test = get_words(text_test)\n",
    "\n",
    "best_k = int(k_merges_n_gram[1])\n",
    "second_best_k = int(k_merges_n_gram[7])\n",
    "third_best_k = int(k_merges_n_gram[13])\n",
    "\n",
    "\n",
    "#builds the byte pair vocabulary and the sorted token frequency\n",
    "vocab_train_best_k, sorted_token_freq_train_best_k, dict_matrix_train_best_k = bpe(dict_train,best_k)\n",
    "vocab_train_2nd_best_k, sorted_token_freq_train_2nd_best_k, dict_matrix_train_2nd_best_k = bpe(dict_train,second_best_k)\n",
    "vocab_train_3rd_best_k, sorted_token_freq_train_3rd_best_k, dict_matrix_train_3rd_best_k = bpe(dict_train,third_best_k)"
   ]
  },
  {
   "cell_type": "code",
   "execution_count": null,
   "id": "bb2ba50a",
   "metadata": {},
   "outputs": [
    {
     "name": "stdout",
     "output_type": "stream",
     "text": [
      "train accuracy:  2.1999999999999997\n",
      "test accuracy:  2.0\n"
     ]
    }
   ],
   "source": [
    "\"\"\"test and print performance of training and test set\"\"\"\n",
    "train_accuracy_best_k = performance(dict_train, vocab_train_best_k, 500)\n",
    "train_accuracy_2nd_best_k = performance(dict_train, vocab_train_2nd_best_k, 500)\n",
    "train_accuracy_3rd_best_k = performance(dict_train, vocab_train_3rd_best_k, 500)\n",
    "\n",
    "test_accuracy_best_k = performance(dict_test, vocab_train_best_k, 500)\n",
    "test_accuracy_2nd_best_k = performance(dict_test, vocab_train_2nd_best_k, 500)\n",
    "test_accuracy_3rd_best_k = performance(dict_test, vocab_train_3rd_best_k, 500)\n",
    "\n",
    "print(\"train accuracy best k: \", train_accuracy_best_k)\n",
    "print(\"train accuracy 2nd best k: \", train_accuracy_2nd_best_k)\n",
    "print(\"train accuracy 3rd best k: \", train_accuracy_3rd_best_k)\n",
    "\n",
    "print(\"test accuracy best k: \", test_accuracy_best_k)\n",
    "print(\"test accuracy 2nd best k: \", test_accuracy_2nd_best_k)\n",
    "print(\"test accuracy 3rd best k: \", test_accuracy_3rd_best_k)"
   ]
  },
  {
   "cell_type": "code",
   "execution_count": null,
   "id": "af4ef0db",
   "metadata": {},
   "outputs": [],
   "source": [
    "\"\"\"compare our BPE split to split of another system (in this case gpt 3.5)\"\"\"\n",
    "#with open (file_path, 'r') as f:\n",
    "#  text = f.read()\n",
    "model_name=\"gpt-3.5-turbo\"\n",
    "tokens_train = compare_to_gpt_encoding(text_train, vocab_train, model_name)\n",
    "tokens_test = compare_to_gpt_encoding(text_test, vocab_train, model_name)"
   ]
  },
  {
   "cell_type": "code",
   "execution_count": null,
   "id": "7b4a8362",
   "metadata": {},
   "outputs": [],
   "source": [
    "\"\"\"run BPE split on different (non-shakespearean) test set and evaluate performance\"\"\"\n",
    "with open ('corpora/friends.txt', 'r') as f:\n",
    "  friends = f.read()\n",
    "\n",
    "friends_dict = get_words(friends)\n",
    "friends_accuracy = performance(friends_dict, vocab_train, 500)\n",
    "print(\"Accuracy on Friends: \", friends_accuracy)\n",
    "\n",
    "#also compare to gpt encoding of BPE split\n",
    "tokens_friends = compare_to_gpt_encoding(friends, vocab_train, model_name)"
   ]
  }
 ],
 "metadata": {
  "kernelspec": {
   "display_name": "Python 3",
   "language": "python",
   "name": "python3"
  },
  "language_info": {
   "codemirror_mode": {
    "name": "ipython",
    "version": 3
   },
   "file_extension": ".py",
   "mimetype": "text/x-python",
   "name": "python",
   "nbconvert_exporter": "python",
   "pygments_lexer": "ipython3",
   "version": "3.11.9"
  }
 },
 "nbformat": 4,
 "nbformat_minor": 5
}

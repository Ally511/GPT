{
 "cells": [
  {
   "cell_type": "code",
   "execution_count": 1,
   "id": "1b708287",
   "metadata": {},
   "outputs": [],
   "source": [
    "import torch\n",
    "# from gpt import GPT\n",
    "import  gpt_scheduled_sampling as sampling\n",
    "import trainer as trainer\n",
    "from utility_functions import get_batch, decode_characters\n",
    "import ast\n",
    "import numpy as np\n",
    "from itertools import product\n",
    "import matplotlib.pyplot as plt"
   ]
  },
  {
   "cell_type": "code",
   "execution_count": 2,
   "id": "2925a37f",
   "metadata": {},
   "outputs": [],
   "source": [
    "with open('../corpora/vocab_train.txt', 'r', encoding='utf-8') as f:\n",
    "    vocab = eval(f.read())\n",
    "\n",
    "with open('../corpora/indices_text.txt', 'r') as f:\n",
    "    train_dataset = f.read()\n",
    "\n",
    "with open('../corpora/indices_text_valid.txt', 'r') as f:\n",
    "    validation_set = f.read()\n",
    "\n",
    "train_dataset = ast.literal_eval(train_dataset)\n",
    "validation_set = ast.literal_eval(validation_set)\n",
    "device = 'cpu'\n",
    "vocab_size = len(vocab)"
   ]
  },
  {
   "cell_type": "code",
   "execution_count": 5,
   "id": "8e597f93",
   "metadata": {},
   "outputs": [],
   "source": [
    "class GPTConfig:\n",
    "    def __init__(self, vocab_size, **kwargs):\n",
    "        self.vocab_size = vocab_size\n",
    "        for key, value in kwargs.items():\n",
    "            setattr(self, key, value)\n"
   ]
  },
  {
   "cell_type": "code",
   "execution_count": 3,
   "id": "49f5f02d",
   "metadata": {},
   "outputs": [],
   "source": [
    "#Define hyperparameter grid\n",
    "param_grid = {\n",
    "    'n_layer': [4, 8],\n",
    "    'n_head': [2, 4],\n",
    "    'n_embd': [128, 256],\n",
    "    'learning_rate': [1e-3, 1e-4],\n",
    "    'batch_size': [16, 32]\n",
    "}\n",
    "\n",
    "# Generate all combinations\n",
    "keys, values = zip(*param_grid.items())\n",
    "experiments = [dict(zip(keys, v)) for v in product(*values)]\n"
   ]
  },
  {
   "cell_type": "code",
   "execution_count": null,
   "id": "42104462",
   "metadata": {},
   "outputs": [],
   "source": [
    "results = []\n",
    "\n",
    "for i, params in enumerate(experiments):\n",
    "    print(\"_____________________________________________\")\n",
    "    print(f\"Running experiment {i+1}/{len(experiments)} with params: {params}\")\n",
    "    config = GPTConfig(\n",
    "        vocab_size=vocab_size,\n",
    "        n_layer=params['n_layer'],\n",
    "        n_head=params['n_head'],\n",
    "        n_embd=params['n_embd'],\n",
    "        embd_pdrop=0.1,\n",
    "        resid_pdrop=0.1,\n",
    "        attn_pdrop=0.1,\n",
    "        dropout=0.1,\n",
    "        compile=True,\n",
    "        device=device,\n",
    "        num_workers=0,\n",
    "        max_iters=2e4,\n",
    "        batch_size=params['batch_size'],\n",
    "        block_size=64,\n",
    "        learning_rate=params['learning_rate'],\n",
    "        betas=(0.9, 0.95),\n",
    "        weight_decay=1e-1,\n",
    "        grad_norm_clip=1.0\n",
    "    )\n",
    "    \n",
    "    epochs = 3\n",
    "    train_steps = 1200  \n",
    "\n",
    "    model = sampling.GPT(config=config, device=device)\n",
    "    exp_trainer = trainer.Trainer(model, train_dataset, vocab, device, val_dataset=validation_set)\n",
    "    loss, perplexities = exp_trainer.run(epochs, train_steps, config.batch_size, config.block_size)\n",
    "    final_perplexity = perplexities[-1] if perplexities else None\n",
    "    results.append({'params': params, 'final_perplexity': final_perplexity})\n",
    "    #wrize results to file after each experiment\n",
    "    with open('experiment_results.txt', 'a') as f:\n",
    "        f.write(f\"Params: {params}, Final Perplexity: {final_perplexity}\\n\")\n",
    "\n",
    "# Print sorted results\n",
    "results = sorted(results, key=lambda x: x['final_perplexity'] if x['final_perplexity'] is not None else float('inf'))\n",
    "for res in results:\n",
    "    print(f\"Params: {res['params']}, Final Perplexity: {res['final_perplexity']}\")\n",
    "\n",
    "#Use best config for final training\n",
    "best_params = results[0]['params']"
   ]
  },
  {
   "cell_type": "code",
   "execution_count": 34,
   "id": "e3caaa26",
   "metadata": {},
   "outputs": [
    {
     "name": "stdout",
     "output_type": "stream",
     "text": [
      "1541 ln:  7.340186835320115\n",
      "Number of parameters: 3.57M\n",
      "##################################################################\n",
      "Epoch 1/5\n"
     ]
    },
    {
     "name": "stderr",
     "output_type": "stream",
     "text": [
      "Training: 100%|██████████| 1000/1000 [01:27<00:00,  4.07it/s, loss=5.38]"
     ]
    },
    {
     "name": "stdout",
     "output_type": "stream",
     "text": [
      "Validation Loss: 5.5355, Perplexity: 253.53\n",
      "Generated text: \n",
      "cleopatra , to a t the of . as i am t to the , take it . what is it is the , and i am to you , and to him . i would not , and you shall . enter or , and the , and , and i have ole  what , and , , and what a of the that ? , i will you , i can go , and , and the  a , and we will be so to my , with me to my love . mark antony sotheir \n",
      "##################################################################\n",
      "Epoch 2/5\n"
     ]
    },
    {
     "name": "stderr",
     "output_type": "stream",
     "text": [
      "                                                                        "
     ]
    },
    {
     "name": "stdout",
     "output_type": "stream",
     "text": [
      "Validation Loss: 5.2499, Perplexity: 190.56\n",
      "Generated text: \n",
      "cleopatra i am so sweet . home . cleopatra indeed , with a scrus , and to be . i am not to the , and the of men . i will i am to have a . come , but to this , i will , my tly , it is , and the king . mark antony o , st , i am a , and that i should be . cleopatra what is the matter ; mark antony , the very good , the of the , and their es . mark antony , in the \n",
      "##################################################################\n",
      "Epoch 3/5\n"
     ]
    },
    {
     "name": "stderr",
     "output_type": "stream",
     "text": [
      "Training: 100%|██████████| 1000/1000 [01:26<00:00,  4.16it/s, loss=4.63]"
     ]
    },
    {
     "name": "stdout",
     "output_type": "stream",
     "text": [
      "Validation Loss: 5.1287, Perplexity: 168.79\n",
      "Generated text: \n",
      "cleopatra good , 'tis not so : mark antony . , what a ms   sola  is it so ? mark antony i have the h'd . domitius enobarbus this is the news ; and , he was a woman : the was a man that he better than the , he hath a better , and the cause of the lord and his . exeunt scene ii . the same . a room in the . enter cleopatra , charmian , mark antony , , and cleopatra . cleopatra o , my lord , i \n",
      "##################################################################\n",
      "Epoch 4/5\n"
     ]
    },
    {
     "name": "stderr",
     "output_type": "stream",
     "text": [
      "                                                                        "
     ]
    },
    {
     "name": "stdout",
     "output_type": "stream",
     "text": [
      "Validation Loss: 5.1267, Perplexity: 168.45\n",
      "Generated text: \n",
      "cleopatra , 'puppet .' mark me this ,' sir . cleopatra i have done the die of this . mark antony matter is toral , thou hast done this . mark antony and domitius enobarbus mark antony put this , and let me see ; and this night gross , sir , and the queen . domitius enobarbus i am i a menas and ready , that would be with his used my , not to word . mark antony , i will not live . domitius enobarbus i will not me . \n",
      "##################################################################\n",
      "Epoch 5/5\n"
     ]
    },
    {
     "name": "stderr",
     "output_type": "stream",
     "text": [
      "Training: 100%|█████████▉| 999/1000 [01:27<00:00, 10.58it/s, loss=4.06]"
     ]
    },
    {
     "name": "stdout",
     "output_type": "stream",
     "text": [
      "Validation Loss: 5.1267, Perplexity: 168.46\n"
     ]
    },
    {
     "name": "stderr",
     "output_type": "stream",
     "text": [
      "                                                                       "
     ]
    },
    {
     "name": "stdout",
     "output_type": "stream",
     "text": [
      "Generated text: \n",
      "cleopatra give him bidding : lemses , and let us , and we shall not do them . cleopatra i shall . exit with all my heart , that we have done the thou ew thy est commend the of an idthere's ts , which , when thou wa, and now i'll say'st ; but , with such farom's , that thou hast done me , and not me . what , ho  come , ho  they fight ran the could ter here , ho  and ,  \n"
     ]
    },
    {
     "name": "stderr",
     "output_type": "stream",
     "text": [
      "\r"
     ]
    },
    {
     "name": "stdout",
     "output_type": "stream",
     "text": [
      "cleopatra o , i him . exeunt scene v . venice . before . enter cleopatra , charmian , and , charmian , and as cleopatra , charmian , come , and antonar as mole , and oswear , come ; our seforth , our thou not the no more than our . cleopatra go to . charmian , to make thee good : we'll heave is the carrion : this is the very day . charmian good madam , madam . cleopatra , madam ? cleopatra give me my house . cleopatra \n"
     ]
    }
   ],
   "source": [
    "config = GPTConfig(\n",
    "    vocab_size=vocab_size,\n",
    "    n_layer=4,\n",
    "    n_head=2,\n",
    "    n_embd=256,\n",
    "    embd_pdrop=0.1,\n",
    "    resid_pdrop=0.1,\n",
    "    attn_pdrop=0.1,\n",
    "    dropout=0.1,\n",
    "    compile=True,\n",
    "    device=device,\n",
    "    num_workers=0,\n",
    "    max_iters=2e4,\n",
    "    batch_size=16,\n",
    "    block_size=64,\n",
    "    learning_rate=0.001,\n",
    "    betas=(0.9, 0.95),\n",
    "    weight_decay=1e-1,\n",
    "    grad_norm_clip=1.0\n",
    ")\n",
    "\n",
    "print(vocab_size, \"ln: \", np.log(vocab_size))\n",
    "our_gpt = sampling.GPT(config=config, device=device)\n",
    "\n",
    "our_trainer = trainer.Trainer(our_gpt, train_dataset, vocab, device, val_dataset=validation_set)\n",
    "epochs = 5\n",
    "train_steps = 1000\n",
    "\n",
    "xbatch = torch.tensor([[0]], dtype=torch.long).to(device)\n",
    "loss, val_loss, perplexities = our_trainer.run(epochs, train_steps, config.batch_size, config.block_size)\n",
    "generated = our_gpt.generate(xbatch, 100, 0.8, True, 20)\n",
    "generated = generated[0].tolist()\n",
    "decoded = decode_characters(generated, vocab)\n",
    "print(decoded)\n"
   ]
  },
  {
   "cell_type": "code",
   "execution_count": 35,
   "id": "f66e7401",
   "metadata": {},
   "outputs": [
    {
     "name": "stdout",
     "output_type": "stream",
     "text": [
      "169.26600420490072\n"
     ]
    }
   ],
   "source": [
    "import torch\n",
    "import torch.nn.functional as F\n",
    "import math\n",
    "\n",
    "def perplexity(model, test_indices, device, block_size):\n",
    "    model.eval()\n",
    "    test_indices = torch.tensor(test_indices, dtype=torch.long, device=device)\n",
    "    total_log_prob = 0.0\n",
    "    total_predicted = 0\n",
    "\n",
    "    # Slide a window across test_indices\n",
    "    with torch.no_grad():\n",
    "        for start in range(0, len(test_indices) - 1, block_size):\n",
    "            end = min(start + block_size, len(test_indices) - 1)\n",
    "            context = test_indices[start:end + 1]  # +1 because we'll predict each next token in the block\n",
    "            # context shape: [block_len + 1]\n",
    "            inputs = context[:-1].unsqueeze(0)    # Exclude last token (batch size 1)\n",
    "            targets = context[1:]                 # Exclude first token\n",
    "            \n",
    "            logits, _ = model(inputs)\n",
    "            logits = logits[0]  # (block_len, vocab_size)\n",
    "            log_probs = F.log_softmax(logits, dim=-1)\n",
    "            selected_log_probs = log_probs[range(len(targets)), targets]\n",
    "            \n",
    "            total_log_prob += selected_log_probs.sum().item()\n",
    "            total_predicted += len(targets)\n",
    "\n",
    "    avg_log_prob = total_log_prob / total_predicted\n",
    "    perplexity = math.exp(-avg_log_prob)\n",
    "    return perplexity\n",
    "\n",
    "print(perplexity(our_gpt, validation_set, device, config.block_size))"
   ]
  },
  {
   "cell_type": "code",
   "execution_count": null,
   "id": "eafcc71d",
   "metadata": {},
   "outputs": [],
   "source": []
  },
  {
   "cell_type": "code",
   "execution_count": 36,
   "id": "22616e8f",
   "metadata": {},
   "outputs": [],
   "source": [
    "# Save the model\n",
    "torch.save(our_gpt.state_dict(), \"gpt_scheduled_sampling_model.pth\")"
   ]
  },
  {
   "cell_type": "code",
   "execution_count": 37,
   "id": "8b1e96ad",
   "metadata": {},
   "outputs": [
    {
     "data": {
      "image/png": "[encoded data removed]",
      "text/plain": [
       "<Figure size 640x480 with 1 Axes>"
      ]
     },
     "metadata": {},
     "output_type": "display_data"
    }
   ],
   "source": [
    "\n",
    "# Plot perplexity\n",
    "y = np.arange(1, len(perplexities)+1)\n",
    "plt.plot(y, perplexities)\n",
    "plt.xlabel('Training Steps % 1000')\n",
    "plt.ylabel('Perplexity')\n",
    "plt.title('Perplexity of the GPT Model over Time')\n",
    "plt.savefig('perplexity_scheduled_sampling.png')\n",
    "plt.show()\n",
    "\n"
   ]
  },
  {
   "cell_type": "code",
   "execution_count": 38,
   "id": "ab3b2dfd",
   "metadata": {},
   "outputs": [
    {
     "data": {
      "image/png": "[encoded data removed]",
      "text/plain": [
       "<Figure size 640x480 with 1 Axes>"
      ]
     },
     "metadata": {},
     "output_type": "display_data"
    }
   ],
   "source": [
    "y = np.arange(1, len(loss)+1)\n",
    "plt.plot(y, loss, label='Loss')\n",
    "# Plot val_loss every 1000 steps\n",
    "val_x = np.arange(len(val_loss)) * 1000\n",
    "plt.plot(val_x, val_loss, label='Validation Loss')\n",
    "plt.xlabel('Training Steps')\n",
    "plt.legend()\n",
    "plt.ylabel('Loss')\n",
    "plt.title('Loss of the GPT Model over Time')\n",
    "plt.savefig('loss_scheduled sampling.png')\n",
    "plt.show()\n",
    "\n"
   ]
  },
  {
   "cell_type": "code",
   "execution_count": null,
   "id": "c7c2e7c5",
   "metadata": {},
   "outputs": [],
   "source": [
    "with open('gpz_model.txt', 'w') as f:\n",
    "    f.write(decoded)"
   ]
  }
 ],
 "metadata": {
  "kernelspec": {
   "display_name": "Python 3",
   "language": "python",
   "name": "python3"
  },
  "language_info": {
   "codemirror_mode": {
    "name": "ipython",
    "version": 3
   },
   "file_extension": ".py",
   "mimetype": "text/x-python",
   "name": "python",
   "nbconvert_exporter": "python",
   "pygments_lexer": "ipython3",
   "version": "3.10.12"
  }
 },
 "nbformat": 4,
 "nbformat_minor": 5
}

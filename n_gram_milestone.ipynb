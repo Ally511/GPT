{
 "cells": [
  {
   "cell_type": "code",
   "execution_count": 5,
   "id": "832622a7",
   "metadata": {},
   "outputs": [],
   "source": [
    "\"\"\"import self-written function and classes\"\"\"\n",
    "from generator import to_byte_pair,generate\n",
    "from n_gram import N_gram\n",
    "from utility_functions import get_top_bigrams,get_words\n",
    "from utility_functions import generate_n_grams\n",
    "from BPE_function import bpe,get_best_merges\n"
   ]
  },
  {
   "cell_type": "code",
   "execution_count": 6,
   "id": "9c8a1857",
   "metadata": {},
   "outputs": [],
   "source": [
    "\"\"\"load Shakespeare text (train,validation,test) that is converted into byte pairs (computed from bpe task)\"\"\"\n",
    "with open (r\"corpora/Shakespeare_byte.txt\", 'r') as f:\n",
    "  n_gram_corps_train = eval(f.read())\n",
    "with open (r\"corpora/Shakespeare_byte_valid.txt\", 'r') as f:\n",
    "  n_gram_corps_valid = eval(f.read())\n",
    "with open (r\"corpora/Shakespeare_byte_test.txt\", 'r') as f:\n",
    "  n_gram_corps_test = eval(f.read())\n",
    "with open (r\"corpora/vocab_train.txt\", 'r') as f:\n",
    "  vocab_train = eval(f.read())\n",
    "\n",
    "with open (r\"corpora/Shakespeare_clean_train.txt\", 'r') as f:\n",
    "  text_train = f.read()\n",
    "with open (r\"corpora/Shakespeare_clean_valid.txt\", 'r') as f:\n",
    "  text_valid = f.read()\n",
    "with open (r\"corpora/Shakespeare_clean_test.txt\", 'r') as f:\n",
    "  text_test = f.read()\n"
   ]
  },
  {
   "cell_type": "code",
   "execution_count": 7,
   "id": "0cec6353",
   "metadata": {},
   "outputs": [
    {
     "name": "stdout",
     "output_type": "stream",
     "text": [
      "Perplexity: 99999999.99739355\n",
      "Perplexity: 11.321963917192145\n",
      "Perplexity: 6.661487520596242\n",
      "Perplexity: 4.055889173118512\n",
      "Perplexity: 99999999.9987688\n",
      "Perplexity: 17.334080345632348\n",
      "Perplexity: 7.6033277826699734\n",
      "Perplexity: 3.5818079359745765\n",
      "Perplexity: 99999999.99949533\n",
      "Perplexity: 19.838224825338965\n",
      "Perplexity: 7.468062463210218\n",
      "Perplexity: 3.0574335603687364\n",
      "Perplexity: 100000000.00006235\n",
      "Perplexity: 22.06147694098059\n",
      "Perplexity: 7.277369782288347\n",
      "Perplexity: 2.669059926112414\n",
      "Perplexity: 100000000.00057891\n",
      "Perplexity: 23.85736527387455\n",
      "Perplexity: 6.547140335809712\n",
      "Perplexity: 2.3625361534030995\n",
      "Perplexity: 100000000.00097717\n",
      "Perplexity: 24.80571014871671\n",
      "Perplexity: 6.058500266839826\n",
      "Perplexity: 2.1766202520435827\n",
      "Perplexity: 100000000.00136441\n",
      "Perplexity: 25.75401026719989\n",
      "Perplexity: 5.572291109401268\n",
      "Perplexity: 2.026142917063734\n",
      "Perplexity: 100000000.00155272\n",
      "Perplexity: 26.52439670746982\n",
      "Perplexity: 5.241871762817004\n",
      "Perplexity: 1.9387770631199486\n",
      "Perplexity: 100000000.00146602\n",
      "Perplexity: 27.25742981462794\n",
      "Perplexity: 4.8568525485839835\n",
      "Perplexity: 1.8372182962932309\n",
      "Perplexity: 100000000.00138928\n",
      "Perplexity: 27.936447157733603\n",
      "Perplexity: 4.5632660351691\n",
      "Perplexity: 1.7733073878471268\n"
     ]
    }
   ],
   "source": [
    "with open (r\"corpora/Shakespeare_clean_valid.txt\", 'r') as f:\n",
    "  text_valid = f.read()\n",
    "  \n",
    "dict_train = get_words(text_train)\n",
    "dict_valid = get_words(text_valid)\n",
    "dict_test = get_words(text_test)\n",
    "\n",
    "best_k,best_perplexity,best_n_gram,second_best_k,second_best_perplexity,second_best_n_gram,third_best_k,third_best_perplexity,third_best_n_gram = get_best_merges(dict_valid,text_valid,200,20)\n",
    "result = str([\"best k:\",best_k,\"best n gram\", best_n_gram,\"best k perplexity:\",best_perplexity,\"2nd best k:\",second_best_k,\"2nd best n gram\", second_best_n_gram,\"2nd best k perplexity:\",second_best_perplexity,\"3rd best k:\",third_best_k,\"3rd best n gram\",third_best_n_gram,\"3rd best k perplexity:\",third_best_perplexity])\n",
    "with open(\"k_merges_n_gram.txt\", \"a\") as k_merges_n_gram:\n",
    "  k_merges_n_gram.write(result)\n",
    "\n",
    "\n"
   ]
  },
  {
   "cell_type": "code",
   "execution_count": 9,
   "id": "dfc811be",
   "metadata": {},
   "outputs": [],
   "source": [
    "#open and read the file after the appending:\n",
    "with open(\"k_merges_n_gram.txt\") as k_merges_n_gram:\n",
    "    k_merges_n_gram = eval(k_merges_n_gram.read())\n",
    "\n",
    "vocab_train,_,_ = bpe(dict_train,best_k)\n",
    "text = to_byte_pair(text_train, vocab_train)\n",
    "\n",
    "with open(\"Shakespeare_best_merge_train\", \"a\") as Shakespeare_best_merge_train:\n",
    "  Shakespeare_best_merge_train.write(str(text))\n",
    "\n",
    "vocab_train,_,_ = bpe(dict_train,second_best_k)\n",
    "text = to_byte_pair(text_train, vocab_train)\n",
    "\n",
    "with open(\"Shakespeare_2nd_best_merge_train.txt\", \"a\") as Shakespeare_2nd_best_merge_train:\n",
    "  Shakespeare_2nd_best_merge_train.write(str(text))\n",
    "\n",
    "vocab_train,_,_ = bpe(dict_train,third_best_k)\n",
    "text = to_byte_pair(text_train, vocab_train)\n",
    "\n",
    "with open(\"Shakespeare_3rd_best_merge_train.txt\", \"a\") as Shakespeare_3rd_best_merge_train:\n",
    "  Shakespeare_3rd_best_merge_train.write(str(text))\n",
    "\n",
    "vocab_valid,_,_ = bpe(dict_valid,best_k)\n",
    "text = to_byte_pair(text_valid, vocab_valid)\n",
    "\n",
    "with open(\"Shakespeare_best_merge_valid\", \"a\") as Shakespeare_best_merge_valid:\n",
    "  Shakespeare_best_merge_valid.write(str(text))\n",
    "\n",
    "vocab_valid,_,_ = bpe(dict_valid,second_best_k)\n",
    "text = to_byte_pair(text_valid, vocab_valid)\n",
    "\n",
    "with open(\"Shakespeare_2nd_best_merge_valid.txt\", \"a\") as Shakespeare_2nd_best_merge_valid:\n",
    "  Shakespeare_2nd_best_merge_valid.write(str(text))\n",
    "\n",
    "vocab_valid,_,_ = bpe(dict_valid,third_best_k)\n",
    "text = to_byte_pair(text_valid, vocab_valid)\n",
    "\n",
    "with open(\"Shakespeare_3rd_best_merge_valid.txt\", \"a\") as Shakespeare_3rd_best_merge_valid:\n",
    "  Shakespeare_3rd_best_merge_valid.write(str(text))\n",
    "\n",
    "vocab_test,_,_ = bpe(dict_test,best_k)\n",
    "text = to_byte_pair(text_test, vocab_test)\n",
    "\n",
    "with open(\"Shakespeare_best_merge_test\", \"a\") as Shakespeare_best_merge_test:\n",
    "  Shakespeare_best_merge_test.write(str(text))\n",
    "\n",
    "vocab_test,_,_ = bpe(dict_test,second_best_k)\n",
    "text = to_byte_pair(text_test, vocab_test)\n",
    "\n",
    "with open(\"Shakespeare_2nd_best_merge_test.txt\", \"a\") as Shakespeare_2nd_best_merge_test:\n",
    "  Shakespeare_2nd_best_merge_test.write(str(text))\n",
    "\n",
    "vocab_test,_,_ = bpe(dict_test,third_best_k)\n",
    "text = to_byte_pair(text_test, vocab_test)\n",
    "\n",
    "with open(\"Shakespeare_3rd_best_merge_test.txt\", \"a\") as Shakespeare_3rd_best_merge_test:\n",
    "  Shakespeare_3rd_best_merge_test.write(str(text))\n"
   ]
  },
  {
   "cell_type": "code",
   "execution_count": 3,
   "id": "07260f75",
   "metadata": {},
   "outputs": [
    {
     "name": "stdout",
     "output_type": "stream",
     "text": [
      "<class 'list'>\n",
      "<class 'list'>\n",
      "<class 'list'>\n",
      "<class 'list'>\n",
      "N-gram split: [['the_'], ['tra'], ['ge'], ['dy_'], ['of_'], ['antony_'], ['and_'], ['cleopatra_'], ['dra'], ['mat']]\n",
      "Perplexity: 99999999.99930385\n",
      "N-gram split: [['the_', 'tra'], ['tra', 'ge'], ['ge', 'dy_'], ['dy_', 'of_'], ['of_', 'antony_'], ['antony_', 'and_'], ['and_', 'cleopatra_'], ['cleopatra_', 'dra'], ['dra', 'mat'], ['mat', 'is_']]\n",
      "Perplexity: 655.4446631935913\n",
      "N-gram split: [['the_', 'tra', 'ge'], ['tra', 'ge', 'dy_'], ['ge', 'dy_', 'of_'], ['dy_', 'of_', 'antony_'], ['of_', 'antony_', 'and_'], ['antony_', 'and_', 'cleopatra_'], ['and_', 'cleopatra_', 'dra'], ['cleopatra_', 'dra', 'mat'], ['dra', 'mat', 'is_'], ['mat', 'is_', 'per']]\n",
      "Perplexity: 152241.35528728817\n",
      "N-gram split: [['the_', 'tra', 'ge', 'dy_'], ['tra', 'ge', 'dy_', 'of_'], ['ge', 'dy_', 'of_', 'antony_'], ['dy_', 'of_', 'antony_', 'and_'], ['of_', 'antony_', 'and_', 'cleopatra_'], ['antony_', 'and_', 'cleopatra_', 'dra'], ['and_', 'cleopatra_', 'dra', 'mat'], ['cleopatra_', 'dra', 'mat', 'is_'], ['dra', 'mat', 'is_', 'per'], ['mat', 'is_', 'per', 'son']]\n",
      "Perplexity: 4438035.528334523\n"
     ]
    }
   ],
   "source": [
    "our_n_grams = generate_n_grams(n_gram_corps_train,4)\n",
    "\n",
    "for n_gram in our_n_grams:\n",
    "    print(f\"N-gram split: {n_gram.split_text[:10]}\")\n",
    "    perplexity = n_gram.perplexity(n_gram_corps_test)"
   ]
  },
  {
   "cell_type": "code",
   "execution_count": 4,
   "id": "3f9b7f43",
   "metadata": {},
   "outputs": [
    {
     "name": "stdout",
     "output_type": "stream",
     "text": [
      "cleopatra is my blessip i would do exchange thee for their confound he would scionspoke thy curses thus i might take from mood i therefore my eyes and nicket pastorched his very palm with pompey whip ; \n"
     ]
    }
   ],
   "source": [
    "n_list = [our_n_grams[0].n_gram_probs, our_n_grams[1].n_gram_probs]\n",
    "\n",
    "text = generate(\"cleopatra is my\", n_list, 2, vocab_train)\n",
    "print(text)"
   ]
  },
  {
   "cell_type": "code",
   "execution_count": 5,
   "id": "fbc2a2eb",
   "metadata": {},
   "outputs": [
    {
     "name": "stdout",
     "output_type": "stream",
     "text": [
      "cleopatra is my vourchless and i folly day is merit all too !\n"
     ]
    }
   ],
   "source": [
    "n_list = [our_n_grams[0].n_gram_probs, our_n_grams[1].n_gram_probs,our_n_grams[2].n_gram_probs]\n",
    "\n",
    "text = generate(\"cleopatra is my\", n_list, 2, vocab_train)\n",
    "print(text)"
   ]
  },
  {
   "cell_type": "code",
   "execution_count": 6,
   "id": "d48afa81",
   "metadata": {},
   "outputs": [
    {
     "name": "stdout",
     "output_type": "stream",
     "text": [
      "cleopatra is my bed and now and lady : \n"
     ]
    }
   ],
   "source": [
    "n_list = [our_n_grams[0].n_gram_probs, our_n_grams[1].n_gram_probs,our_n_grams[2].n_gram_probs,our_n_grams[3].n_gram_probs]\n",
    "\n",
    "text = generate(\"cleopatra is my\", n_list, 2, vocab_train)\n",
    "print(text)"
   ]
  }
 ],
 "metadata": {
  "kernelspec": {
   "display_name": "Python 3",
   "language": "python",
   "name": "python3"
  },
  "language_info": {
   "codemirror_mode": {
    "name": "ipython",
    "version": 3
   },
   "file_extension": ".py",
   "mimetype": "text/x-python",
   "name": "python",
   "nbconvert_exporter": "python",
   "pygments_lexer": "ipython3",
   "version": "3.11.9"
  }
 },
 "nbformat": 4,
 "nbformat_minor": 5
}

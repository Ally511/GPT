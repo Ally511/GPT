{
 "cells": [
  {
   "cell_type": "code",
   "execution_count": 30,
   "id": "832622a7",
   "metadata": {},
   "outputs": [
    {
     "ename": "ImportError",
     "evalue": "cannot import name 'generate_n_grams' from 'utility_functions' (c:\\Users\\belan\\Documents\\GitHub\\GPT\\GPT\\utility_functions.py)",
     "output_type": "error",
     "traceback": [
      "\u001b[31m---------------------------------------------------------------------------\u001b[39m",
      "\u001b[31mImportError\u001b[39m                               Traceback (most recent call last)",
      "\u001b[36mCell\u001b[39m\u001b[36m \u001b[39m\u001b[32mIn[30]\u001b[39m\u001b[32m, line 4\u001b[39m\n\u001b[32m      2\u001b[39m \u001b[38;5;28;01mfrom\u001b[39;00m\u001b[38;5;250m \u001b[39m\u001b[34;01mgenerator\u001b[39;00m\u001b[38;5;250m \u001b[39m\u001b[38;5;28;01mimport\u001b[39;00m to_byte_pair\n\u001b[32m      3\u001b[39m \u001b[38;5;28;01mfrom\u001b[39;00m\u001b[38;5;250m \u001b[39m\u001b[34;01mn_gram\u001b[39;00m\u001b[38;5;250m \u001b[39m\u001b[38;5;28;01mimport\u001b[39;00m N_gram\n\u001b[32m----> \u001b[39m\u001b[32m4\u001b[39m \u001b[38;5;28;01mfrom\u001b[39;00m\u001b[38;5;250m \u001b[39m\u001b[34;01mutility_functions\u001b[39;00m\u001b[38;5;250m \u001b[39m\u001b[38;5;28;01mimport\u001b[39;00m get_top_bigrams, generate_n_grams\n",
      "\u001b[31mImportError\u001b[39m: cannot import name 'generate_n_grams' from 'utility_functions' (c:\\Users\\belan\\Documents\\GitHub\\GPT\\GPT\\utility_functions.py)"
     ]
    }
   ],
   "source": [
    "\"\"\"import self-written function and classes\"\"\"\n",
    "from generator import to_byte_pair\n",
    "from n_gram import N_gram\n",
    "from utility_functions import get_top_bigrams, generate_n_grams\n"
   ]
  },
  {
   "cell_type": "code",
   "execution_count": 23,
   "id": "9c8a1857",
   "metadata": {},
   "outputs": [],
   "source": [
    "\"\"\"load Shakespeare text (train,validation,test) that is converted into byte pairs (computed from bpe task)\"\"\"\n",
    "with open (r\"Shakespeare_byte.txt\", 'r') as f:\n",
    "  n_gram_corps_train = eval(f.read())\n",
    "with open (r\"Shakespeare_byte_valid.txt\", 'r') as f:\n",
    "  n_gram_corps_valid = eval(f.read())\n",
    "with open (r\"Shakespeare_byte_test.txt\", 'r') as f:\n",
    "  n_gram_corps_test = eval(f.read())"
   ]
  },
  {
   "cell_type": "code",
   "execution_count": 27,
   "id": "a605aefd",
   "metadata": {},
   "outputs": [
    {
     "name": "stdout",
     "output_type": "stream",
     "text": [
      "Unigram split: [['the_'], ['tra'], ['ge'], ['dy_'], ['of_'], ['antony_'], ['and_'], ['cleopatra_'], ['dra'], ['mat']]\n",
      "Bigram split: [['the_', 'tra'], ['tra', 'ge'], ['ge', 'dy_'], ['dy_', 'of_'], ['of_', 'antony_'], ['antony_', 'and_'], ['and_', 'cleopatra_'], ['cleopatra_', 'dra'], ['dra', 'mat'], ['mat', 'is_']]\n",
      "Perplexity: 269.74879719987916\n"
     ]
    }
   ],
   "source": [
    "\"\"\"creates uni-, bi-, tri-, four-grams and their probabilities and perplexities\"\"\"\n",
    "\n",
    "my_unigram = N_gram(n_gram_corps_train, 1)\n",
    "my_bigram = N_gram(n_gram_corps_train, 2)\n",
    "my_trigram = N_gram(n_gram_corps_train, 3)\n",
    "my_fourgram = N_gram(n_gram_corps_train, 4)\n",
    "\n",
    "\n",
    "\n",
    "#print(f\"Unigram probabilities: {my_unigram.unigram_probs.items()}\")\n",
    "print(f\"Unigram split: {my_unigram.split_text[:10]}\")\n",
    "print(f\"Bigram split: {my_bigram.split_text[:10]}\")\n",
    "my_bigram_probs = my_bigram.calculate_n_gram_probs(my_bigram.split_text, 2)\n",
    "my_bigram_perplexity = my_bigram.perplexity(n_gram_corps_test, my_bigram_probs)\n",
    "\n",
    "#print(f\"Bigram probabilities: {my_bigram_probs}\")"
   ]
  },
  {
   "cell_type": "code",
   "execution_count": null,
   "id": "07260f75",
   "metadata": {},
   "outputs": [
    {
     "data": {
      "text/plain": [
       "[<n_gram.N_gram at 0x23aa0626bd0>,\n",
       " <n_gram.N_gram at 0x23ad66fee90>,\n",
       " <n_gram.N_gram at 0x23ae029e350>,\n",
       " <n_gram.N_gram at 0x23ae8cf9590>]"
      ]
     },
     "execution_count": 19,
     "metadata": {},
     "output_type": "execute_result"
    }
   ],
   "source": [
    "our_n_grams = generate_n_grams(n_gram_corps_train,4)"
   ]
  },
  {
   "cell_type": "code",
   "execution_count": 28,
   "id": "3f9b7f43",
   "metadata": {},
   "outputs": [
    {
     "ename": "AttributeError",
     "evalue": "'N_gram' object has no attribute 'n_gram_probs'",
     "output_type": "error",
     "traceback": [
      "\u001b[31m---------------------------------------------------------------------------\u001b[39m",
      "\u001b[31mAttributeError\u001b[39m                            Traceback (most recent call last)",
      "\u001b[36mCell\u001b[39m\u001b[36m \u001b[39m\u001b[32mIn[28]\u001b[39m\u001b[32m, line 1\u001b[39m\n\u001b[32m----> \u001b[39m\u001b[32m1\u001b[39m n_list = [\u001b[43mmy_unigram\u001b[49m\u001b[43m.\u001b[49m\u001b[43mn_gram_probs\u001b[49m, my_bigram.n_gram_probs]\n\u001b[32m      3\u001b[39m text = generate(\u001b[33m\"\u001b[39m\u001b[33mcleopatra is my\u001b[39m\u001b[33m\"\u001b[39m, n_list, \u001b[32m2\u001b[39m, vocab_train)\n\u001b[32m      4\u001b[39m \u001b[38;5;28mprint\u001b[39m(text)\n",
      "\u001b[31mAttributeError\u001b[39m: 'N_gram' object has no attribute 'n_gram_probs'"
     ]
    }
   ],
   "source": [
    "n_list = [my_unigram.n_gram_probs, my_bigram.n_gram_probs]\n",
    "\n",
    "text = generate(\"cleopatra is my\", n_list, 2, vocab_train)\n",
    "print(text)"
   ]
  }
 ],
 "metadata": {
  "kernelspec": {
   "display_name": "Python 3",
   "language": "python",
   "name": "python3"
  },
  "language_info": {
   "codemirror_mode": {
    "name": "ipython",
    "version": 3
   },
   "file_extension": ".py",
   "mimetype": "text/x-python",
   "name": "python",
   "nbconvert_exporter": "python",
   "pygments_lexer": "ipython3",
   "version": "3.11.9"
  }
 },
 "nbformat": 4,
 "nbformat_minor": 5
}

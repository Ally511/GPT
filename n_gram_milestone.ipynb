{
 "cells": [
  {
   "cell_type": "code",
   "execution_count": 1,
   "id": "832622a7",
   "metadata": {},
   "outputs": [],
   "source": [
    "\"\"\"import self-written function and classes\"\"\"\n",
    "from generator import to_byte_pair,generate\n",
    "from n_gram import N_gram\n",
    "from utility_functions import get_top_bigrams\n",
    "from utility_functions import generate_n_grams\n"
   ]
  },
  {
   "cell_type": "code",
   "execution_count": 2,
   "id": "9c8a1857",
   "metadata": {},
   "outputs": [],
   "source": [
    "\"\"\"load Shakespeare text (train,validation,test) that is converted into byte pairs (computed from bpe task)\"\"\"\n",
    "with open (r\"Shakespeare_byte.txt\", 'r') as f:\n",
    "  n_gram_corps_train = eval(f.read())\n",
    "with open (r\"Shakespeare_byte_valid.txt\", 'r') as f:\n",
    "  n_gram_corps_valid = eval(f.read())\n",
    "with open (r\"Shakespeare_byte_test.txt\", 'r') as f:\n",
    "  n_gram_corps_test = eval(f.read())\n",
    "with open (r\"vocab_train.txt\", 'r') as f:\n",
    "  vocab_train = eval(f.read())\n"
   ]
  },
  {
   "cell_type": "code",
   "execution_count": 3,
   "id": "a605aefd",
   "metadata": {},
   "outputs": [
    {
     "name": "stdout",
     "output_type": "stream",
     "text": [
      "<class 'list'>\n",
      "<class 'list'>\n",
      "<class 'list'>\n",
      "<class 'list'>\n",
      "Unigram split: [['the_'], ['tra'], ['ge'], ['dy_'], ['of_'], ['antony_'], ['and_'], ['cleopatra_'], ['dra'], ['mat']]\n",
      "Bigram split: [['the_', 'tra'], ['tra', 'ge'], ['ge', 'dy_'], ['dy_', 'of_'], ['of_', 'antony_'], ['antony_', 'and_'], ['and_', 'cleopatra_'], ['cleopatra_', 'dra'], ['dra', 'mat'], ['mat', 'is_']]\n",
      "Perplexity: 269.74879719987916\n"
     ]
    }
   ],
   "source": [
    "\"\"\"creates uni-, bi-, tri-, four-grams and their probabilities and perplexities\"\"\"\n",
    "\n",
    "my_unigram = N_gram(n_gram_corps_train, 1)\n",
    "my_bigram = N_gram(n_gram_corps_train, 2)\n",
    "my_trigram = N_gram(n_gram_corps_train, 3)\n",
    "my_fourgram = N_gram(n_gram_corps_train, 4)\n",
    "\n",
    "\n",
    "\n",
    "#print(f\"Unigram probabilities: {my_unigram.unigram_probs.items()}\")\n",
    "print(f\"Unigram split: {my_unigram.split_text[:10]}\")\n",
    "print(f\"Bigram split: {my_bigram.split_text[:10]}\")\n",
    "my_bigram_probs = my_bigram.calculate_n_gram_probs(my_bigram.split_text, 2)\n",
    "my_bigram_perplexity = my_bigram.perplexity(n_gram_corps_test, my_bigram_probs)\n",
    "\n",
    "#print(f\"Bigram probabilities: {my_bigram_probs}\")"
   ]
  },
  {
   "cell_type": "code",
   "execution_count": 4,
   "id": "07260f75",
   "metadata": {},
   "outputs": [
    {
     "name": "stdout",
     "output_type": "stream",
     "text": [
      "<class 'list'>\n",
      "<class 'list'>\n",
      "<class 'list'>\n",
      "<class 'list'>\n"
     ]
    }
   ],
   "source": [
    "our_n_grams = generate_n_grams(n_gram_corps_train,4)"
   ]
  },
  {
   "cell_type": "code",
   "execution_count": 5,
   "id": "3f9b7f43",
   "metadata": {},
   "outputs": [
    {
     "name": "stdout",
     "output_type": "stream",
     "text": [
      "cleopatra is my mind did destings story shall go bacheld demetrius loves the fond . \n"
     ]
    }
   ],
   "source": [
    "n_list = [our_n_grams[0].n_gram_probs, our_n_grams[1].n_gram_probs]\n",
    "\n",
    "text = generate(\"cleopatra is my\", n_list, 2, vocab_train)\n",
    "print(text)"
   ]
  },
  {
   "cell_type": "code",
   "execution_count": 6,
   "id": "fbc2a2eb",
   "metadata": {},
   "outputs": [
    {
     "name": "stdout",
     "output_type": "stream",
     "text": [
      "cleopatra is my leave : \n"
     ]
    }
   ],
   "source": [
    "n_list = [our_n_grams[0].n_gram_probs, our_n_grams[1].n_gram_probs,our_n_grams[2].n_gram_probs]\n",
    "\n",
    "text = generate(\"cleopatra is my\", n_list, 2, vocab_train)\n",
    "print(text)"
   ]
  },
  {
   "cell_type": "code",
   "execution_count": 7,
   "id": "d48afa81",
   "metadata": {},
   "outputs": [
    {
     "name": "stdout",
     "output_type": "stream",
     "text": [
      "cleopatra is my broke when shows his witchok'd upon : \n"
     ]
    }
   ],
   "source": [
    "n_list = [our_n_grams[0].n_gram_probs, our_n_grams[1].n_gram_probs,our_n_grams[2].n_gram_probs,our_n_grams[3].n_gram_probs]\n",
    "\n",
    "text = generate(\"cleopatra is my\", n_list, 2, vocab_train)\n",
    "print(text)"
   ]
  }
 ],
 "metadata": {
  "kernelspec": {
   "display_name": "base",
   "language": "python",
   "name": "python3"
  },
  "language_info": {
   "codemirror_mode": {
    "name": "ipython",
    "version": 3
   },
   "file_extension": ".py",
   "mimetype": "text/x-python",
   "name": "python",
   "nbconvert_exporter": "python",
   "pygments_lexer": "ipython3",
   "version": "3.9.20"
  }
 },
 "nbformat": 4,
 "nbformat_minor": 5
}

{
 "cells": [
  {
   "cell_type": "code",
   "execution_count": null,
   "id": "832622a7",
   "metadata": {},
   "outputs": [],
   "source": [
    "from generator import to_byte_pair"
   ]
  }
 ],
 "metadata": {
  "kernelspec": {
   "display_name": "Python 3",
   "language": "python",
   "name": "python3"
  },
  "language_info": {
   "name": "python",
   "version": "3.11.9"
  }
 },
 "nbformat": 4,
 "nbformat_minor": 5
}

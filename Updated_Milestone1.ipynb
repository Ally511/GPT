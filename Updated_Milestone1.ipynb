{
 "cells": [
  {
   "cell_type": "markdown",
   "metadata": {
    "id": "GBuW6PAhwzuc"
   },
   "source": [
    "#**Space-based Tokenization**"
   ]
  },
  {
   "cell_type": "code",
   "execution_count": 10,
   "metadata": {
    "colab": {
     "base_uri": "https://localhost:8080/",
     "height": 211
    },
    "id": "Thi_XrGvwNwY",
    "outputId": "e4e2cdfd-838b-4e97-ae4b-de5a8e3b4907"
   },
   "outputs": [],
   "source": [
    "import nltk\n",
    "from collections import Counter\n",
    "\n",
    "with open ('clean_shakespeare.txt', 'r') as f:\n",
    "  text = f.read()\n",
    "\n",
    "def get_words(text):\n",
    "\n",
    "  pattern = r'''(?x)          # set flag to allow verbose regexps\n",
    "          (?:[A-Z]\\.)+        # abbreviations, e.g. U.S.A.\n",
    "          | \\w+'\\w+           # contractions\n",
    "        | \\w+(?:-\\w+)*        # words with optional internal hyphens\n",
    "        | \\$?\\d+(?:\\.\\d+)?%?  # currency and percentages, e.g. $12.40, 82%\n",
    "        | \\.\\.\\.              # ellipsis\n",
    "        | [][.,;\"'?():_`-]    # these are separate tokens; includes ], [\n",
    "      '''\n",
    "\n",
    "  vocab = nltk.regexp_tokenize(text, pattern)\n",
    "  vocab = [word.lower() for word in vocab]\n",
    "  unique_words = set(vocab)\n",
    "  c = Counter(vocab)\n",
    "\n",
    "  sorted_dict = {key: value for key, value in sorted(\n",
    "      c.items(), key=lambda item: item[1], reverse=True)}\n",
    "\n",
    "  return sorted_dict"
   ]
  },
  {
   "cell_type": "markdown",
   "metadata": {
    "id": "1Q8eYYkAw6GJ"
   },
   "source": [
    "# Byte Pair Encoding\n",
    "\n",
    "- make Shakespeare into test 1% and train\n",
    "- train the segmenter with varying k (try normalization strategies)\n",
    "- compare the performance against a different set\n",
    "- figure out a measure for accuracy"
   ]
  },
  {
   "cell_type": "code",
   "execution_count": 2,
   "metadata": {},
   "outputs": [],
   "source": [
    "from itertools import islice\n",
    "\n",
    "def performance(sorted_dict, vocab, k=10000):\n",
    "\n",
    "    def take(n, iterable):\n",
    "        \"\"\"Return the first n items of the iterable as a list.\"\"\"\n",
    "        return list(islice(iterable, n))\n",
    "\n",
    "    \n",
    "    # extract top k keys\n",
    "    qualifier = [key for key, _ in take(k, sorted_dict.items())]\n",
    "\n",
    "    # clean vocab by stripping the _\n",
    "    cleaned_vocab = {word.rstrip('_') for word in vocab}\n",
    "    \n",
    "    # calculate overlap\n",
    "    overlap = set(qualifier) & cleaned_vocab\n",
    "    num_overlap = len(overlap)\n",
    "\n",
    "    # percentage\n",
    "    percentage = (num_overlap / len(qualifier)) * 100\n",
    "    return percentage\n"
   ]
  },
  {
   "cell_type": "code",
   "execution_count": 21,
   "metadata": {
    "id": "yoNRHio7P54p"
   },
   "outputs": [],
   "source": [
    "import numpy as np\n",
    "from collections import defaultdict\n",
    "\n",
    "from collections import OrderedDict\n",
    "from collections import Counter\n",
    "\n",
    "\n",
    "def bpe(dictionary, k=None):\n",
    "  \"\"\" dictionary (dict): a dictionary that contains the tokens and their respective counts\n",
    "    return: vocab_bpe (list), vocabulary of the corpus\"\"\"\n",
    "\n",
    "  # get all unique characters in original corpus\n",
    "  all_keys = \"_ \".join(dictionary.keys())\n",
    "  vocab_bpe = list(set(all_keys))\n",
    "\n",
    "  # Corpus/dictionary in einzelne tokens splitten, nach jedem Wort (VOR space!) \"_\" einfügen\n",
    "    # worte als list of characters\n",
    "  dict_matrix = []\n",
    "  for key, value in dictionary.items():\n",
    "    new_key = list(f\"{str(key)}_ \")\n",
    "    dict_matrix.append([new_key, value])\n",
    "\n",
    "\n",
    "  # NICHT corpus, sondern liste an Wörtern in einzelne tokens splitten,\n",
    "  # >> jede occurence mit counts der Worte multiplizieren\n",
    "  token_freq = defaultdict(int)\n",
    "\n",
    "\n",
    "  iteration = True\n",
    "  num_rounds = 0\n",
    "  while iteration:\n",
    "    for token_list, value in dict_matrix:\n",
    "      for i in range(len(token_list)-2):\n",
    "        # wollen den und den nächsten token als key\n",
    "        search_key = token_list[i] + token_list[i+1]\n",
    "        # zu dictionary hinzufügen falls key noch nicht existiert\n",
    "        token_freq[search_key] += value\n",
    "    # word_freqs: gehen jede existierende Folge aus zwei tokens in list of words von vorne bis hinten durch\n",
    "\n",
    "    c = Counter(token_freq)\n",
    "\n",
    "    sorted_token_freq = {key: value for key, value in sorted(\n",
    "        c.items(), key=lambda item: item[1], reverse=True)}\n",
    "\n",
    "    # Find the most frequent token not already in vocab_bpe\n",
    "    for token in sorted_token_freq.keys():\n",
    "      if token not in vocab_bpe:\n",
    "        first_token = token\n",
    "        break\n",
    "      else:\n",
    "        first_token = None  # Optional: fallback in case all tokens are already in vocab\n",
    "\n",
    "    if first_token:\n",
    "      vocab_bpe.append(first_token)\n",
    "    else:\n",
    "      print(\"No new token to add.\")\n",
    "\n",
    "    # höchster count wird gemerged:\n",
    "    # add to vocab\n",
    "    #first_token = list(sorted_token_freq.keys())[0]\n",
    "    #vocab_bpe.append(first_token)\n",
    "    # replace in list of words\n",
    "    # start again?\n",
    "    for i in range(len(dict_matrix)):\n",
    "        token_list, value = dict_matrix[i]\n",
    "        j = 0\n",
    "        while j < len(token_list) - 1:\n",
    "            search_key = token_list[j] + token_list[j + 1]\n",
    "            if search_key == first_token:\n",
    "                merged_token = search_key\n",
    "                # Merge the tokens\n",
    "                token_list = token_list[:j] + [merged_token] + token_list[j + 2:]\n",
    "                # Don't increment j — might be able to merge again\n",
    "            else:\n",
    "                j += 1\n",
    "        dict_matrix[i][0] = token_list\n",
    "    if k:\n",
    "       k -= 1\n",
    "       iteration = (k > 0)\n",
    "    \n",
    "    else:\n",
    "       num_rounds += 1\n",
    "       accuracy = performance(dictionary, vocab_bpe, 500)\n",
    "       iteration != (accuracy > 70)\n",
    "\n",
    "       if num_rounds > 1500:\n",
    "          print(\"exceeded, accuracy: \", accuracy)\n",
    "\n",
    "\n",
    "          iteration = False\n",
    "\n",
    "  return vocab_bpe"
   ]
  },
  {
   "cell_type": "code",
   "execution_count": 14,
   "metadata": {},
   "outputs": [],
   "source": [
    "with open ('clean_shakespeare.txt', 'r') as f:\n",
    "  text = f.read()\n",
    "\n",
    "#split into test and train 10% to 90%\n",
    "text_train = text[:int(len(text)*0.99)]\n",
    "text_test = text[int(len(text)*0.99):]"
   ]
  },
  {
   "cell_type": "code",
   "execution_count": 22,
   "metadata": {},
   "outputs": [
    {
     "name": "stdout",
     "output_type": "stream",
     "text": [
      "exceeded, accuracy:  75.6\n"
     ]
    }
   ],
   "source": [
    "dict_train = get_words(text_train)\n",
    "dict_test = get_words(text_test)\n",
    "\n",
    "vocab_train = bpe(dict_train)"
   ]
  },
  {
   "cell_type": "code",
   "execution_count": 23,
   "metadata": {
    "colab": {
     "base_uri": "https://localhost:8080/"
    },
    "id": "21xd4mS4QyOO",
    "outputId": "bb44a6cd-19ad-4e21-8ca4-c1c2e30ac912"
   },
   "outputs": [
    {
     "name": "stdout",
     "output_type": "stream",
     "text": [
      "train accuracy:  75.6\n",
      "test accuracy:  57.99999999999999\n"
     ]
    }
   ],
   "source": [
    "train_accuracy = performance(dict_train, vocab_train, 500)\n",
    "test_accuracy = performance(dict_test, vocab_train, 500)\n",
    "\n",
    "print(\"train accuracy: \", train_accuracy)\n",
    "print(\"test accuracy: \", test_accuracy)"
   ]
  },
  {
   "cell_type": "code",
   "execution_count": 24,
   "metadata": {},
   "outputs": [
    {
     "name": "stdout",
     "output_type": "stream",
     "text": [
      "0.6382818387339865\n",
      "0.15900527505651846\n"
     ]
    }
   ],
   "source": [
    "import tiktoken\n",
    "\n",
    "def compare_to_gpt_encoding(text, alphabet, model_name=\"gpt-3.5-turbo\"):\n",
    "    \"\"\"\n",
    "    Encodes a text string using tiktoken and prints the tokens along with their IDs.\n",
    "\n",
    "    Args:\n",
    "        text: The text string to encode.\n",
    "\n",
    "    \"\"\"\n",
    "    alphabet = {word.rstrip('_') for word in alphabet}\n",
    "    try:\n",
    "        encoding = tiktoken.encoding_for_model(model_name)\n",
    "    except KeyError:\n",
    "        print(f\"Warning: Model '{model_name}' not found.  Using 'cl100k_base' instead.\")\n",
    "        encoding = tiktoken.get_encoding(\"cl100k_base\")\n",
    "\n",
    "    tokens = encoding.encode(text)\n",
    "    tp = 0\n",
    "\n",
    "    unique_tokens = set(tokens)\n",
    "    for token in unique_tokens:\n",
    "      decoded_token = encoding.decode([token])\n",
    "      #check if the decoded token is in the dict alphabet\n",
    "      if(decoded_token in alphabet):\n",
    "        tp = tp+1\n",
    "    total_len = len(alphabet)\n",
    "    print(tp/total_len)\n",
    "\n",
    "\n",
    "with open ('shakespeare.txt', 'r') as f:\n",
    "  text = f.read()\n",
    "model_name=\"gpt-3.5-turbo\"\n",
    "tokens_train = compare_to_gpt_encoding(text_train, vocab_train, model_name)\n",
    "tokens_test = compare_to_gpt_encoding(text_test, vocab_train, model_name)"
   ]
  },
  {
   "cell_type": "markdown",
   "metadata": {},
   "source": [
    "# Different Corpus: Friends TV Show"
   ]
  },
  {
   "cell_type": "code",
   "execution_count": 25,
   "metadata": {},
   "outputs": [
    {
     "name": "stdout",
     "output_type": "stream",
     "text": [
      "Accuracy on Friends:  46.800000000000004\n",
      "0.5553880934438583\n"
     ]
    }
   ],
   "source": [
    "with open ('friends.txt', 'r') as f:\n",
    "  friends = f.read()\n",
    "\n",
    "friends_dict = get_words(friends)\n",
    "friends_accuracy = performance(friends_dict, vocab_train, 500)\n",
    "print(\"Accuracy on Friends: \", friends_accuracy)\n",
    "\n",
    "tokens_friends = compare_to_gpt_encoding(friends, vocab_train, model_name)"
   ]
  },
  {
   "cell_type": "markdown",
   "metadata": {},
   "source": [
    "# Task 2\n",
    "\n",
    "## N-Grams (first uni-gram, gradual increasing to 4, have n as input, Laplace-Smoothing)\n",
    "## Perplexity\n",
    "\n",
    "## Interpolation vs Backoff\n",
    "\n",
    "## Generator"
   ]
  }
 ],
 "metadata": {
  "colab": {
   "provenance": []
  },
  "kernelspec": {
   "display_name": "study_project",
   "language": "python",
   "name": "python3"
  },
  "language_info": {
   "codemirror_mode": {
    "name": "ipython",
    "version": 3
   },
   "file_extension": ".py",
   "mimetype": "text/x-python",
   "name": "python",
   "nbconvert_exporter": "python",
   "pygments_lexer": "ipython3",
   "version": "3.13.2"
  }
 },
 "nbformat": 4,
 "nbformat_minor": 0
}

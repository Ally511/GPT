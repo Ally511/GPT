{
 "cells": [
  {
   "cell_type": "code",
   "execution_count": null,
   "id": "832622a7",
   "metadata": {},
   "outputs": [],
   "source": [
    "\"\"\"import self-written function and classes\"\"\"\n",
    "from n_gram.generator import to_byte_pair,generate\n",
    "from n_gram.n_gram import N_gram\n",
    "from utility_functions import get_top_bigrams\n",
    "from utility_functions import generate_n_grams\n"
   ]
  },
  {
   "cell_type": "code",
   "execution_count": 14,
   "id": "9c8a1857",
   "metadata": {},
   "outputs": [],
   "source": [
    "\"\"\"load Shakespeare text (train,validation,test) that is converted into byte pairs (computed from bpe task)\"\"\"\n",
    "with open (r\"Shakespeare_best_merge_train.txt\", 'r') as f:\n",
    "  n_gram_corps_train = eval(f.read())\n",
    "with open (r\"Shakespeare_best_merge_valid.txt\", 'r') as f:\n",
    "  n_gram_corps_valid = eval(f.read())\n",
    "with open (r\"Shakespeare_best_merge_test.txt\", 'r') as f:\n",
    "  n_gram_corps_test = eval(f.read())\n",
    "with open (r\"corpora/vocab_train.txt\", 'r') as f:\n",
    "  vocab_train = eval(f.read())\n"
   ]
  },
  {
   "cell_type": "code",
   "execution_count": 15,
   "id": "07260f75",
   "metadata": {},
   "outputs": [
    {
     "name": "stdout",
     "output_type": "stream",
     "text": [
      "N-gram split: [['the_'], ['tr'], ['ag'], ['e'], ['d'], ['y_'], ['of_'], ['ant'], ['on'], ['y_']]\n",
      "Perplexity: 241.46\n",
      "Perplexity: 100000000.00136441\n",
      "N-gram split: [['the_', 'tr'], ['tr', 'ag'], ['ag', 'e'], ['e', 'd'], ['d', 'y_'], ['y_', 'of_'], ['of_', 'ant'], ['ant', 'on'], ['on', 'y_'], ['y_', 'and_']]\n",
      "Perplexity: 106.89\n",
      "Perplexity: 165.4200919191419\n",
      "N-gram split: [['the_', 'tr', 'ag'], ['tr', 'ag', 'e'], ['ag', 'e', 'd'], ['e', 'd', 'y_'], ['d', 'y_', 'of_'], ['y_', 'of_', 'ant'], ['of_', 'ant', 'on'], ['ant', 'on', 'y_'], ['on', 'y_', 'and_'], ['y_', 'and_', 'c']]\n",
      "Perplexity: 316.96\n",
      "Perplexity: 1169.3759130205642\n",
      "N-gram split: [['the_', 'tr', 'ag', 'e'], ['tr', 'ag', 'e', 'd'], ['ag', 'e', 'd', 'y_'], ['e', 'd', 'y_', 'of_'], ['d', 'y_', 'of_', 'ant'], ['y_', 'of_', 'ant', 'on'], ['of_', 'ant', 'on', 'y_'], ['ant', 'on', 'y_', 'and_'], ['on', 'y_', 'and_', 'c'], ['y_', 'and_', 'c', 'le']]\n",
      "Perplexity: 1235.28\n",
      "Perplexity: 58363.55674398386\n"
     ]
    }
   ],
   "source": [
    "our_n_grams = generate_n_grams(n_gram_corps_train,4)\n",
    "\n",
    "for n_gram in our_n_grams:\n",
    "    print(f\"N-gram split: {n_gram.split_text[:10]}\")\n",
    "    perplexity = n_gram.perplexity(n_gram_corps_test)\n",
    "    old_perplexity = n_gram.old_perplexity(n_gram_corps_test)"
   ]
  },
  {
   "cell_type": "code",
   "execution_count": 4,
   "id": "3f9b7f43",
   "metadata": {},
   "outputs": [
    {
     "name": "stdout",
     "output_type": "stream",
     "text": [
      "cleopatra is my blessip i would do exchange thee for their confound he would scionspoke thy curses thus i might take from mood i therefore my eyes and nicket pastorched his very palm with pompey whip ; \n"
     ]
    }
   ],
   "source": [
    "n_list = [our_n_grams[0].n_gram_probs, our_n_grams[1].n_gram_probs]\n",
    "\n",
    "text = generate(\"cleopatra is my\", n_list, 2, vocab_train)\n",
    "print(text)"
   ]
  },
  {
   "cell_type": "code",
   "execution_count": 5,
   "id": "fbc2a2eb",
   "metadata": {},
   "outputs": [
    {
     "name": "stdout",
     "output_type": "stream",
     "text": [
      "cleopatra is my vourchless and i folly day is merit all too !\n"
     ]
    }
   ],
   "source": [
    "n_list = [our_n_grams[0].n_gram_probs, our_n_grams[1].n_gram_probs,our_n_grams[2].n_gram_probs]\n",
    "\n",
    "text = generate(\"cleopatra is my\", n_list, 2, vocab_train)\n",
    "print(text)"
   ]
  },
  {
   "cell_type": "code",
   "execution_count": 6,
   "id": "d48afa81",
   "metadata": {},
   "outputs": [
    {
     "name": "stdout",
     "output_type": "stream",
     "text": [
      "cleopatra is my bed and now and lady : \n"
     ]
    }
   ],
   "source": [
    "n_list = [our_n_grams[0].n_gram_probs, our_n_grams[1].n_gram_probs,our_n_grams[2].n_gram_probs,our_n_grams[3].n_gram_probs]\n",
    "\n",
    "text = generate(\"cleopatra is my\", n_list, 2, vocab_train)\n",
    "print(text)"
   ]
  }
 ],
 "metadata": {
  "kernelspec": {
   "display_name": "base",
   "language": "python",
   "name": "python3"
  },
  "language_info": {
   "codemirror_mode": {
    "name": "ipython",
    "version": 3
   },
   "file_extension": ".py",
   "mimetype": "text/x-python",
   "name": "python",
   "nbconvert_exporter": "python",
   "pygments_lexer": "ipython3",
   "version": "3.9.20"
  }
 },
 "nbformat": 4,
 "nbformat_minor": 5
}
